{
 "cells": [
  {
   "cell_type": "markdown",
   "metadata": {},
   "source": [
    "# Data Cleaning (Pyspark)\n",
    "\n",
    "Este Jupyter Notebook tiene el objetivo de limpiar el dataset de Contrataciones (contratacionesabiertas_bulk.json). Leer más sobre cómo descargar este dataset en el readme file de este repositorio.\n",
    "\n",
    "Dado que este conjunto de datos es muy grande, vamos a utilizar la tecnología de Hadoop y Pyspark para trabajarlo de manera más eficiente.\n",
    "\n",
    "Para ello ejecutaremos este notebook siguiendo los siguientes pasos:\n",
    "1. Lectura de los datos en json y transformar al formato parquet.\n",
    "2. R\n",
    "3. C\n",
    "4. C"
   ]
  },
  {
   "cell_type": "code",
   "execution_count": null,
   "metadata": {},
   "outputs": [
    {
     "ename": "",
     "evalue": "",
     "output_type": "error",
     "traceback": [
      "\u001b[1;31mRunning cells with 'Python 3.12.2' requires the ipykernel package.\n",
      "\u001b[1;31mRun the following command to install 'ipykernel' into the Python environment. \n",
      "\u001b[1;31mCommand: '/usr/local/bin/python3 -m pip install ipykernel -U --user --force-reinstall'"
     ]
    }
   ],
   "source": [
    "from pyspark.sql import SparkSession\n",
    "\n",
    "# Inicializar la SparkSession con configuraciones óptimas para procesar archivos grandes\n",
    "spark = SparkSession.builder \\\n",
    "    .appName(\"OCDS Data Cleaning\") \\\n",
    "    .config(\"spark.master\", \"local[*]\") \\\n",
    "    .config(\"spark.executor.memory\", \"4g\") \\\n",
    "    .config(\"spark.driver.memory\", \"4g\") \\\n",
    "    .config(\"spark.sql.shuffle.partitions\", \"200\") \\\n",
    "    .getOrCreate()"
   ]
  }
 ],
 "metadata": {
  "kernelspec": {
   "display_name": "Python 3",
   "language": "python",
   "name": "python3"
  },
  "language_info": {
   "codemirror_mode": {
    "name": "ipython",
    "version": 3
   },
   "file_extension": ".py",
   "mimetype": "text/x-python",
   "name": "python",
   "nbconvert_exporter": "python",
   "pygments_lexer": "ipython3",
   "version": "3.12.2"
  }
 },
 "nbformat": 4,
 "nbformat_minor": 2
}
