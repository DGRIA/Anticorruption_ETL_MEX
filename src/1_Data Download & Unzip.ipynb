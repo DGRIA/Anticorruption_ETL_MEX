{
 "cells": [
  {
   "cell_type": "markdown",
   "metadata": {},
   "source": [
    "### 1.1 Descarga de datos\n",
    "\n",
    "Notebook dedicado a la descarga de datos de internet de la página de Compranetinfo.hacienda.gob.mx.\n",
    "Tener en cuenta que esta página puede no abrir desde determinados países, si eso ocurre será necesario instalar una VPN."
   ]
  },
  {
   "cell_type": "code",
   "execution_count": null,
   "metadata": {},
   "outputs": [
    {
     "name": "stderr",
     "output_type": "stream",
     "text": [
      "....... ........ ........ ........ 13% 10.7M 4m23s\n",
      "393216K ........ ........ ........ ........ 14% 17.3M 4m10s\n",
      "425984K ........ ........ ........ ........ 15% 17.3M 4m0s\n",
      "458752K ........ ........ ........ ........ 16% 7.96M 4m1s\n",
      "491520K ........ ........ ........ ........ 17% 7.00M 4m4s\n",
      "524288K ........ ........ ........ ........ 18% 9.47M 4m2s\n",
      "557056K ........ ........ ........ ........ 19% 9.31M 3m59s\n",
      "589824K ........ ........ ........ ........ 20% 12.4M 3m53s\n",
      "622592K ........ ........ ........ ........ 22% 11.9M 3m48s\n",
      "655360K ........ ........ ........ ........ 23% 8.01M 3m47s\n",
      "688128K ........ ........ ........ ........ 24% 7.05M 3m48s\n",
      "720896K ........ ........ ........ ........ 25% 10.3M 3m44s\n",
      "753664K ........ ........ ........ ........ 26% 10.1M 3m40s\n",
      "786432K ........ ........ ........ ........ 27% 8.35M 3m39s\n",
      "819200K ........ ........ ........ ........ 28% 12.8M 3m33s\n",
      "851968K ........ ........ ........ ........ 29% 6.74M 3m33s\n",
      "884736K ........ ........ ........ ........ 30% 6.51M 3m34s\n",
      "917504K ........ ........ ........ ........ 31% 6.42M 3m34s\n",
      "950272K ........ ........ ........ ........ 33% 8.98M 3m30s\n",
      "983040K ........ ........ ........ ........ 34% 7.64M 3m28s\n",
      "1015808K ........ ........ ........ ........ 35% 13.0M 3m23s\n",
      "1048576K .....                               35% 10.2M=1m51s\n",
      "\n",
      "2024-03-26 19:38:32 (9.28 MB/s) - Connection closed at byte 1079650192. Retrying.\n",
      "\n",
      "--2024-03-26 19:38:33--  (try: 2)  https://compranetinfo.hacienda.gob.mx/dabiertos/contrataciones_arr.json.zip\n",
      "Connecting to compranetinfo.hacienda.gob.mx|200.34.175.124|:443... connected.\n",
      "HTTP request sent, awaiting response... 206 Partial Content\n",
      "Length: 3048695338 (2.8G), 1969045146 (1.8G) remaining [application/zip]\n",
      "Saving to: '../data/Raw/contrataciones_arr.json.zip'\n",
      "\n",
      "         [ skipping 1048576K ]\n",
      "1048576K ,,,,,... ........ ........ ........ 36% 2.30M 16m18s\n",
      "1081344K ........ ........ ........ ........ 37% 5.16M 10m27s\n",
      "1114112K ........ ........ ........ ........ 38% 5.53M 8m32s\n",
      "1146880K ........ ........ ........ ........ 39% 2.91M 8m49s\n",
      "1179648K ........ ........ ........ ........ 40% 1.90M 10m0s\n",
      "1212416K ........ ........ ........ ........ 41% 2.57M 10m1s\n",
      "1245184K ........ ........ ........ ........ 42% 1.96M 10m27s\n",
      "1277952K ........ ........ ........ ........ 44% 5.06M 9m38s\n",
      "1310720K ........ ........ ........ ........ 45% 6.96M 8m48s\n",
      "1343488K ........ ........ ........ ........ 46% 8.22M 8m4s\n",
      "1376256K ........ ........ ........ ........ 47% 10.5M 7m24s\n",
      "1409024K ........ ........ ........ ........ 48% 10.1M 6m50s\n",
      "1441792K ........ ........ ........ ........ 49% 9.53M 6m22s\n",
      "1474560K ........ ........ ........ ........ 50% 5.71M 6m5s\n",
      "1507328K ........ ........ ........ ........ 51% 8.67M 5m44s\n",
      "1540096K ........ ........ ........ ........ 52% 10.3M 5m23s\n",
      "1572864K ........ ........ ........ ........ 53% 5.52M 5m11s\n",
      "1605632K ........ ........ ........ ........ 55% 12.6M 4m53s\n",
      "1638400K ........ ........ ........ ........ 56% 7.41M 4m40s\n",
      "1671168K ........ ........ ........ ........ 57% 6.89M 4m28s\n",
      "1703936K ........ ........ ........ ........ 58% 8.58M 4m15s\n",
      "1736704K ........ ........ ........ ........ 59% 8.74M 4m3s\n",
      "1769472K ........ ........ ........ ........ 60% 10.3M 3m51s\n",
      "1802240K ........ ........ ........ ........ 61% 13.4M 3m39s\n",
      "1835008K ........ ........ ........ ........ 62% 12.8M 3m27s\n",
      "1867776K ........ ........ ........ ........ 63% 10.2M 3m17s\n",
      "1900544K ........ ........ ........ ........ 64% 12.3M 3m7s\n",
      "1933312K ........ ........ ........ ........ 66% 13.7M 2m58s\n",
      "1966080K ........ ........ ........ ........ 67% 13.4M 2m48s\n",
      "1998848K ........ ........ ........ ........ 68% 9.12M 2m41s\n",
      "2031616K ........ ........ ........ ........ 69% 9.99M 2m33s\n",
      "2064384K ........ ........ ........ ........ 70% 13.3M 2m25s\n",
      "2097152K ........ ......                     70% 13.8M=2m53s\n",
      "\n",
      "2024-03-26 19:41:26 (5.98 MB/s) - Connection closed at byte 2162688636. Retrying.\n",
      "\n",
      "--2024-03-26 19:41:28--  (try: 3)  https://compranetinfo.hacienda.gob.mx/dabiertos/contrataciones_arr.json.zip\n",
      "Connecting to compranetinfo.hacienda.gob.mx|200.34.175.124|:443... connected.\n",
      "HTTP request sent, awaiting response... 206 Partial Content\n",
      "Length: 3048695338 (2.8G), 886006702 (845M) remaining [application/zip]\n",
      "Saving to: '../data/Raw/contrataciones_arr.json.zip'\n",
      "\n",
      "         [ skipping 2097152K ]\n",
      "2097152K ,,,,,,,, ,,,,,,.. ........ ........ 71% 5.65M 4m28s\n",
      "2129920K ........ ........ ........ ........ 72% 11.0M 2m18s\n",
      "2162688K ........ ........ ........ ........ 73% 6.71M 2m5s\n",
      "2195456K ........ ........ ........ ........ 74% 8.41M 1m51s\n",
      "2228224K ........ ........ ........ ........ 75% 7.60M 1m43s\n",
      "2260992K ........ ....."
     ]
    }
   ],
   "source": [
    "import os\n",
    "import subprocess\n",
    "import zipfile\n",
    "\n",
    "# URL del archivo a descargar\n",
    "url = \"https://compranetinfo.hacienda.gob.mx/dabiertos/contrataciones_arr.json.zip\"\n",
    "\n",
    "# Directorio donde se guardará el archivo\n",
    "directorio_destino = \"../data/Raw\"\n",
    "\n",
    "print(\"Dependiendo de la conexión, esto puede demorar unos 5 minutos.\")\n",
    "\n",
    "# Comando para descargar el archivo usando wget y guardarlo en el directorio especificado\n",
    "# Se añade la opción para imprimir el porcentaje de descarga\n",
    "cmd = f\"wget -P {directorio_destino} {url} --progress=dot:giga\"\n",
    "\n",
    "# Ejecutar el comando y capturar la salida\n",
    "proc = subprocess.Popen(cmd, shell=True, stdout=subprocess.PIPE)\n",
    "\n",
    "# Leer la salida del comando línea por línea para capturar el porcentaje de descarga\n",
    "for line in proc.stdout:\n",
    "    line = line.decode('utf-8')\n",
    "    if 'Guardado' in line:\n",
    "        print(line.strip())\n",
    "    elif '%' in line:\n",
    "        print(line.split()[-1], end='\\r')\n",
    "\n",
    "# Esperar a que el comando termine\n",
    "proc.communicate()\n",
    "\n",
    "\n"
   ]
  },
  {
   "cell_type": "markdown",
   "metadata": {},
   "source": [
    "## 1.2 Unzip file"
   ]
  },
  {
   "cell_type": "code",
   "execution_count": 15,
   "metadata": {},
   "outputs": [
    {
     "name": "stdout",
     "output_type": "stream",
     "text": [
      "Extrayendo el archivo ZIP... \n",
      "...esto puede tardar un rato... aproximadamente de 3 a 5 minutos...\n"
     ]
    },
    {
     "name": "stderr",
     "output_type": "stream",
     "text": [
      "Extrayendo archivos:   0%|          | 0/1 [00:03<?, ?archivos/s]\n"
     ]
    },
    {
     "ename": "KeyboardInterrupt",
     "evalue": "",
     "output_type": "error",
     "traceback": [
      "\u001b[0;31m---------------------------------------------------------------------------\u001b[0m",
      "\u001b[0;31mKeyboardInterrupt\u001b[0m                         Traceback (most recent call last)",
      "Cell \u001b[0;32mIn[15], line 24\u001b[0m\n\u001b[1;32m     21\u001b[0m \u001b[38;5;28;01mwith\u001b[39;00m tqdm(total\u001b[38;5;241m=\u001b[39m\u001b[38;5;28mlen\u001b[39m(all_files), desc\u001b[38;5;241m=\u001b[39m\u001b[38;5;124m\"\u001b[39m\u001b[38;5;124mExtrayendo archivos\u001b[39m\u001b[38;5;124m\"\u001b[39m, unit\u001b[38;5;241m=\u001b[39m\u001b[38;5;124m\"\u001b[39m\u001b[38;5;124marchivos\u001b[39m\u001b[38;5;124m\"\u001b[39m) \u001b[38;5;28;01mas\u001b[39;00m pbar:\n\u001b[1;32m     22\u001b[0m     \u001b[38;5;28;01mfor\u001b[39;00m file \u001b[38;5;129;01min\u001b[39;00m all_files:\n\u001b[1;32m     23\u001b[0m         \u001b[38;5;66;03m# Extraer cada archivo al directorio actual\u001b[39;00m\n\u001b[0;32m---> 24\u001b[0m         \u001b[43mzip_file\u001b[49m\u001b[38;5;241;43m.\u001b[39;49m\u001b[43mextract\u001b[49m\u001b[43m(\u001b[49m\u001b[43mmember\u001b[49m\u001b[38;5;241;43m=\u001b[39;49m\u001b[43mfile\u001b[49m\u001b[43m,\u001b[49m\u001b[43m \u001b[49m\u001b[43mpath\u001b[49m\u001b[38;5;241;43m=\u001b[39;49m\u001b[38;5;124;43m\"\u001b[39;49m\u001b[38;5;124;43m.\u001b[39;49m\u001b[38;5;124;43m\"\u001b[39;49m\u001b[43m)\u001b[49m\n\u001b[1;32m     25\u001b[0m         \u001b[38;5;66;03m# Actualizar la barra de progreso en uno\u001b[39;00m\n\u001b[1;32m     26\u001b[0m         pbar\u001b[38;5;241m.\u001b[39mupdate(\u001b[38;5;241m1\u001b[39m)\n",
      "File \u001b[0;32m/usr/local/Cellar/python@3.12/3.12.2_1/Frameworks/Python.framework/Versions/3.12/lib/python3.12/zipfile/__init__.py:1716\u001b[0m, in \u001b[0;36mZipFile.extract\u001b[0;34m(self, member, path, pwd)\u001b[0m\n\u001b[1;32m   1713\u001b[0m \u001b[38;5;28;01melse\u001b[39;00m:\n\u001b[1;32m   1714\u001b[0m     path \u001b[38;5;241m=\u001b[39m os\u001b[38;5;241m.\u001b[39mfspath(path)\n\u001b[0;32m-> 1716\u001b[0m \u001b[38;5;28;01mreturn\u001b[39;00m \u001b[38;5;28;43mself\u001b[39;49m\u001b[38;5;241;43m.\u001b[39;49m\u001b[43m_extract_member\u001b[49m\u001b[43m(\u001b[49m\u001b[43mmember\u001b[49m\u001b[43m,\u001b[49m\u001b[43m \u001b[49m\u001b[43mpath\u001b[49m\u001b[43m,\u001b[49m\u001b[43m \u001b[49m\u001b[43mpwd\u001b[49m\u001b[43m)\u001b[49m\n",
      "File \u001b[0;32m/usr/local/Cellar/python@3.12/3.12.2_1/Frameworks/Python.framework/Versions/3.12/lib/python3.12/zipfile/__init__.py:1791\u001b[0m, in \u001b[0;36mZipFile._extract_member\u001b[0;34m(self, member, targetpath, pwd)\u001b[0m\n\u001b[1;32m   1787\u001b[0m     \u001b[38;5;28;01mreturn\u001b[39;00m targetpath\n\u001b[1;32m   1789\u001b[0m \u001b[38;5;28;01mwith\u001b[39;00m \u001b[38;5;28mself\u001b[39m\u001b[38;5;241m.\u001b[39mopen(member, pwd\u001b[38;5;241m=\u001b[39mpwd) \u001b[38;5;28;01mas\u001b[39;00m source, \\\n\u001b[1;32m   1790\u001b[0m      \u001b[38;5;28mopen\u001b[39m(targetpath, \u001b[38;5;124m\"\u001b[39m\u001b[38;5;124mwb\u001b[39m\u001b[38;5;124m\"\u001b[39m) \u001b[38;5;28;01mas\u001b[39;00m target:\n\u001b[0;32m-> 1791\u001b[0m     \u001b[43mshutil\u001b[49m\u001b[38;5;241;43m.\u001b[39;49m\u001b[43mcopyfileobj\u001b[49m\u001b[43m(\u001b[49m\u001b[43msource\u001b[49m\u001b[43m,\u001b[49m\u001b[43m \u001b[49m\u001b[43mtarget\u001b[49m\u001b[43m)\u001b[49m\n\u001b[1;32m   1793\u001b[0m \u001b[38;5;28;01mreturn\u001b[39;00m targetpath\n",
      "File \u001b[0;32m/usr/local/Cellar/python@3.12/3.12.2_1/Frameworks/Python.framework/Versions/3.12/lib/python3.12/shutil.py:203\u001b[0m, in \u001b[0;36mcopyfileobj\u001b[0;34m(fsrc, fdst, length)\u001b[0m\n\u001b[1;32m    201\u001b[0m fsrc_read \u001b[38;5;241m=\u001b[39m fsrc\u001b[38;5;241m.\u001b[39mread\n\u001b[1;32m    202\u001b[0m fdst_write \u001b[38;5;241m=\u001b[39m fdst\u001b[38;5;241m.\u001b[39mwrite\n\u001b[0;32m--> 203\u001b[0m \u001b[38;5;28;01mwhile\u001b[39;00m buf \u001b[38;5;241m:=\u001b[39m \u001b[43mfsrc_read\u001b[49m\u001b[43m(\u001b[49m\u001b[43mlength\u001b[49m\u001b[43m)\u001b[49m:\n\u001b[1;32m    204\u001b[0m     fdst_write(buf)\n",
      "File \u001b[0;32m/usr/local/Cellar/python@3.12/3.12.2_1/Frameworks/Python.framework/Versions/3.12/lib/python3.12/zipfile/__init__.py:981\u001b[0m, in \u001b[0;36mZipExtFile.read\u001b[0;34m(self, n)\u001b[0m\n\u001b[1;32m    979\u001b[0m \u001b[38;5;28mself\u001b[39m\u001b[38;5;241m.\u001b[39m_offset \u001b[38;5;241m=\u001b[39m \u001b[38;5;241m0\u001b[39m\n\u001b[1;32m    980\u001b[0m \u001b[38;5;28;01mwhile\u001b[39;00m n \u001b[38;5;241m>\u001b[39m \u001b[38;5;241m0\u001b[39m \u001b[38;5;129;01mand\u001b[39;00m \u001b[38;5;129;01mnot\u001b[39;00m \u001b[38;5;28mself\u001b[39m\u001b[38;5;241m.\u001b[39m_eof:\n\u001b[0;32m--> 981\u001b[0m     data \u001b[38;5;241m=\u001b[39m \u001b[38;5;28;43mself\u001b[39;49m\u001b[38;5;241;43m.\u001b[39;49m\u001b[43m_read1\u001b[49m\u001b[43m(\u001b[49m\u001b[43mn\u001b[49m\u001b[43m)\u001b[49m\n\u001b[1;32m    982\u001b[0m     \u001b[38;5;28;01mif\u001b[39;00m n \u001b[38;5;241m<\u001b[39m \u001b[38;5;28mlen\u001b[39m(data):\n\u001b[1;32m    983\u001b[0m         \u001b[38;5;28mself\u001b[39m\u001b[38;5;241m.\u001b[39m_readbuffer \u001b[38;5;241m=\u001b[39m data\n",
      "File \u001b[0;32m/usr/local/Cellar/python@3.12/3.12.2_1/Frameworks/Python.framework/Versions/3.12/lib/python3.12/zipfile/__init__.py:1056\u001b[0m, in \u001b[0;36mZipExtFile._read1\u001b[0;34m(self, n)\u001b[0m\n\u001b[1;32m   1054\u001b[0m     \u001b[38;5;28mself\u001b[39m\u001b[38;5;241m.\u001b[39m_eof \u001b[38;5;241m=\u001b[39m \u001b[38;5;28mself\u001b[39m\u001b[38;5;241m.\u001b[39m_compress_left \u001b[38;5;241m<\u001b[39m\u001b[38;5;241m=\u001b[39m \u001b[38;5;241m0\u001b[39m\n\u001b[1;32m   1055\u001b[0m \u001b[38;5;28;01melif\u001b[39;00m \u001b[38;5;28mself\u001b[39m\u001b[38;5;241m.\u001b[39m_compress_type \u001b[38;5;241m==\u001b[39m ZIP_DEFLATED:\n\u001b[0;32m-> 1056\u001b[0m     n \u001b[38;5;241m=\u001b[39m \u001b[38;5;28;43mmax\u001b[39;49m\u001b[43m(\u001b[49m\u001b[43mn\u001b[49m\u001b[43m,\u001b[49m\u001b[43m \u001b[49m\u001b[38;5;28;43mself\u001b[39;49m\u001b[38;5;241;43m.\u001b[39;49m\u001b[43mMIN_READ_SIZE\u001b[49m\u001b[43m)\u001b[49m\n\u001b[1;32m   1057\u001b[0m     data \u001b[38;5;241m=\u001b[39m \u001b[38;5;28mself\u001b[39m\u001b[38;5;241m.\u001b[39m_decompressor\u001b[38;5;241m.\u001b[39mdecompress(data, n)\n\u001b[1;32m   1058\u001b[0m     \u001b[38;5;28mself\u001b[39m\u001b[38;5;241m.\u001b[39m_eof \u001b[38;5;241m=\u001b[39m (\u001b[38;5;28mself\u001b[39m\u001b[38;5;241m.\u001b[39m_decompressor\u001b[38;5;241m.\u001b[39meof \u001b[38;5;129;01mor\u001b[39;00m\n\u001b[1;32m   1059\u001b[0m                  \u001b[38;5;28mself\u001b[39m\u001b[38;5;241m.\u001b[39m_compress_left \u001b[38;5;241m<\u001b[39m\u001b[38;5;241m=\u001b[39m \u001b[38;5;241m0\u001b[39m \u001b[38;5;129;01mand\u001b[39;00m\n\u001b[1;32m   1060\u001b[0m                  \u001b[38;5;129;01mnot\u001b[39;00m \u001b[38;5;28mself\u001b[39m\u001b[38;5;241m.\u001b[39m_decompressor\u001b[38;5;241m.\u001b[39munconsumed_tail)\n",
      "\u001b[0;31mKeyboardInterrupt\u001b[0m: "
     ]
    }
   ],
   "source": [
    "import requests\n",
    "from requests.adapters import HTTPAdapter\n",
    "from urllib3.util.retry import Retry\n",
    "import tqdm\n",
    "import io\n",
    "import os\n",
    "from zipfile import ZipFile\n",
    "from tqdm import tqdm\n",
    "\n",
    "print(\"Extrayendo el archivo ZIP... \\n...esto puede tardar un rato... aproximadamente de 3 a 5 minutos...\")\n",
    "\n",
    "# Verificar si el archivo ZIP existe en la ruta especificada antes de intentar abrirlo\n",
    "zip_file_path = \"data/Raw/contrataciones_arr.json-001.zip\"\n",
    "\n",
    "if os.path.exists(zip_file_path):\n",
    "    with ZipFile(zip_file_path, 'r') as zip_file:\n",
    "        # Obtener una lista de todos los nombres de archivos archivados en el zip\n",
    "        all_files = zip_file.namelist()\n",
    "        \n",
    "        # Configurar la barra de progreso\n",
    "        with tqdm(total=len(all_files), desc=\"Extrayendo archivos\", unit=\"archivos\") as pbar:\n",
    "            for file in all_files:\n",
    "                # Extraer cada archivo al directorio actual\n",
    "                zip_file.extract(member=file, path=\".\")\n",
    "                # Actualizar la barra de progreso en uno\n",
    "                pbar.update(1)\n",
    "\n",
    "    print(\"Extracción completada con éxito.\")\n",
    "\n",
    "    # Obtener la lista de nombres de archivos extraídos\n",
    "    extracted_files = zip_file.namelist()\n",
    "    print(f\"Archivos extraídos: {extracted_files}\")\n",
    "else:\n",
    "    print(f\"Error: No se encontró el archivo '{zip_file_path}'. Asegúrate de que la ruta y el nombre del archivo sean correctos.\")\n",
    "\n"
   ]
  },
  {
   "cell_type": "code",
   "execution_count": null,
   "metadata": {},
   "outputs": [],
   "source": []
  }
 ],
 "metadata": {
  "kernelspec": {
   "display_name": "Python 3 (ipykernel)",
   "language": "python",
   "name": "python3"
  },
  "language_info": {
   "codemirror_mode": {
    "name": "ipython",
    "version": 3
   },
   "file_extension": ".py",
   "mimetype": "text/x-python",
   "name": "python",
   "nbconvert_exporter": "python",
   "pygments_lexer": "ipython3",
   "version": "3.11.5"
  }
 },
 "nbformat": 4,
 "nbformat_minor": 2
}
