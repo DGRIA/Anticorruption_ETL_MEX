{
 "cells": [
  {
   "cell_type": "markdown",
   "metadata": {},
   "source": [
    "# Lectura al MongoDB\n",
    "\n",
    "El objetivo de este Jupyter notebook es: i) verificar que la base de datos MongoDB está correctamente instalada y podemos hacer una lectura correcta de los datos; y ii) Extraer la tablas mencionadas en el punto 4 y guardar los datos en formato .csv.\n",
    "\n",
    "En este notebook ejecutaremos los siguientes test:\n",
    "1. Conexión a la base de datos MongoDB en local.\n",
    "2. Revisar el tamaño y la última actualización de los datos.\n",
    "3. Crear una muestra pequeña de datos para confirmar que los comandos funcionan.\n",
    "4. Crear las tablas solicitadas en el diagrama ER con una muestra de los datos."
   ]
  },
  {
   "cell_type": "code",
   "metadata": {
    "ExecuteTime": {
     "end_time": "2024-06-05T17:25:04.215565Z",
     "start_time": "2024-06-05T17:25:02.104021Z"
    }
   },
   "source": [
    "# Importa las librerías\n",
    "from pymongo import MongoClient\n",
    "import pandas as pd\n",
    "import time"
   ],
   "outputs": [],
   "execution_count": 2
  },
  {
   "cell_type": "markdown",
   "metadata": {},
   "source": [
    "## 1. Conexión a la base de datos MongoDB en local.\n",
    "\n",
    "Antes de ejecutar este notebook acuérdate de arrancar la base de datos MongoDB. Se recomienda utilizar Mongo Compass para una gestión más intuitiva de la base de datos."
   ]
  },
  {
   "cell_type": "code",
   "metadata": {
    "ExecuteTime": {
     "end_time": "2024-06-05T17:25:04.286294Z",
     "start_time": "2024-06-05T17:25:04.217571Z"
    }
   },
   "source": [
    "start_time = time.time()\n",
    "\n",
    "# Reemplaza 'localhost' con la dirección de tu servidor MongoDB si es diferente\n",
    "# y '27017' con el puerto correspondiente si has configurado uno distinto.\n",
    "client = MongoClient('mongodb://localhost:27017/')\n",
    "\n",
    "#Nombre las bases de datos\n",
    "#db = client['Contratos_EDCA']\n",
    "db = client['Contratos_EDCA']\n",
    "\n",
    "# Obtén una colección para verificar la conexión\n",
    "try:\n",
    "    # Reemplaza 'Contratos_EDCA' con el nombre de una colección existente en tu base de datos\n",
    "    colecciones = db.list_collection_names()  # Lista todas las colecciones para verificar la conexión\n",
    "    if 'Contratos_EDCA_Bulk' in colecciones:\n",
    "        print(\"Conexión exitosa a la base de datos y la colección encontrada.\")\n",
    "    else:\n",
    "        print(\"Conexión exitosa a la base de datos, pero la colección no fue encontrada.\")\n",
    "except Exception as e:\n",
    "    print(f\"Error al conectar a la base de datos: {e}\")\n",
    "\n",
    "\n",
    "# Listar todas las bases de datos\n",
    "databases = client.list_database_names()\n",
    "collections = db.list_collection_names()\n",
    "\n",
    "# Imprimir la lista de bases de datos\n",
    "print(\"Bases de datos disponibles son:\", databases)\n",
    "\n",
    "print(\"\\n\")\n",
    "\n",
    "print(\"Colecciones dentro de la base de datos:\", collections)\n",
    "\n",
    "elapsed_time = time.time() - start_time\n",
    "print(f\"Tiempo de ejecución: {elapsed_time} segundos\")"
   ],
   "outputs": [
    {
     "name": "stdout",
     "output_type": "stream",
     "text": [
      "Conexión exitosa a la base de datos y la colección encontrada.\n",
      "Bases de datos disponibles son: ['Contratos_EDCA', 'admin', 'config', 'local']\n",
      "\n",
      "\n",
      "Colecciones dentro de la base de datos: ['Contratos_EDCA_Bulk']\n",
      "Tiempo de ejecución: 0.06062626838684082 segundos\n"
     ]
    }
   ],
   "execution_count": 3
  },
  {
   "cell_type": "markdown",
   "metadata": {},
   "source": [
    "## 2. Revisar el tamaño y la última actualización de los datos.\n",
    "\n",
    "La base de datos Contrataciones tiene dos colecciones: \n",
    "- Contratos_EDCA: 7 GB\n",
    "- Sample_Contratos_EDCA: 800 MB"
   ]
  },
  {
   "cell_type": "code",
   "metadata": {
    "ExecuteTime": {
     "end_time": "2024-06-05T17:26:17.916378Z",
     "start_time": "2024-06-05T17:25:05.147888Z"
    }
   },
   "source": [
    "start_time = time.time()\n",
    "## NO CORRER ESTE CHUNK SI NO ES NECESARIO ##\n",
    "\n",
    "# Imprimir el tamaño de la base de datos, número de colecciones y última actualización\n",
    "\n",
    "# Obteniendo el tamaño de la base de datos en GB\n",
    "print(f\"Obteniendo el tamaño de la base de datos.\")\n",
    "db_stats = db.command(\"dbstats\")\n",
    "db_size_gb = db_stats['storageSize'] / (1024**3)  # Convertir bytes a GB\n",
    "print(f\"Tamaño de la base de datos: {db_size_gb} GB\")\n",
    "\n",
    "# Obteniendo el número de documentos en la colección 'Contratos_EDCA'\n",
    "##print(f\"Obteniendo el número de documentos. Este proceso puede tardar hasta 3 minutos...\")\n",
    "num_documents = db['Contratos_EDCA_Bulk'].count_documents({})\n",
    "print(f\"Número de documentos en la colección 'Contratos_EDCA_Sample': {num_documents}\")\n",
    "elapsed_time = time.time() - start_time\n",
    "print(f\"Tiempo de ejecución: {elapsed_time} segundos\")"
   ],
   "outputs": [
    {
     "name": "stdout",
     "output_type": "stream",
     "text": [
      "Obteniendo el tamaño de la base de datos.\n",
      "Tamaño de la base de datos: 6.616733551025391 GB\n",
      "Número de documentos en la colección 'Contratos_EDCA_Sample': 2742267\n",
      "Tiempo de ejecución: 72.76326489448547 segundos\n"
     ]
    }
   ],
   "execution_count": 4
  },
  {
   "cell_type": "markdown",
   "metadata": {},
   "source": [
    "\n",
    "## 4. Crear las tablas solicitadas en el diagrama ER con una muestra de los datos.\n",
    "\n",
    "Extrae las siguientes tablas de la muestra de la base de datos:\n",
    "\n",
    "- Participantes_Proveedores (Parties)\n",
    "- Licitacion (Tender)\n",
    "- asignacion (Awards)\n",
    "- comprador (Parties + Buyer)\n",
    "- documentos_tender (Tender)\n",
    "- items_adq (Awards)\n",
    "- items_tender (Tender)\n"
   ]
  },
  {
   "cell_type": "markdown",
   "metadata": {},
   "source": [
    "### 4.1 Participantes_Proveedores (Origen: Parties)"
   ]
  },
  {
   "cell_type": "code",
   "execution_count": 15,
   "metadata": {},
   "outputs": [
    {
     "name": "stdout",
     "output_type": "stream",
     "text": [
      "Proceso terminado. \n",
      "     El dataset de Participantes_Proveedores tiene el siguiente tamaño: (filas x columnas)\n",
      "(5623393, 16)\n",
      "Tiempo de ejecución: 1364.737802028656 segundos\n"
     ]
    }
   ],
   "source": [
    "# Iniciando lectura de tiempo de ejecución\n",
    "start_time = time.time()\n",
    "\n",
    "# Consulta actualizada a la base de datos Contratos_EDCA\n",
    "#consulta_actualizada = db['Contratos_EDCA_Bulk'].find({\"releases.buyer.id\": \"SESNA-330\"}, {})\n",
    "consulta_actualizada = db['Contratos_EDCA_Bulk'].find({}, {})\n",
    "# Creando una lista de diccionarios para facilitar la creación del dataframe\n",
    "datos = []\n",
    "for contrato in consulta_actualizada:\n",
    "    for party in contrato.get('releases', [{}])[0].get('parties', []):\n",
    "        if party:\n",
    "            roles = party.get('roles', [])\n",
    "            if \"tenderer\" in roles or all(role in roles for role in [\"tenderer\", \"supplier\"]):\n",
    "                contrato_dict = {\n",
    "                    'cve_expediente': contrato.get('releases', [{}])[0].get('tender', {}).get('id', ''),\n",
    "                    'cve_contrato': contrato.get('releases', [{}])[0].get('awards', [{}])[0].get('id', ''),\n",
    "                    'identifier_id': party.get('identifier', {}).get('id', ''),\n",
    "                    'roles': roles,\n",
    "                    'name': party.get('name', ''),\n",
    "                    'identifier_legalName': party.get('identifier', {}).get('legalName', ''),\n",
    "                    'identifier_scheme': party.get('identifier', {}).get('scheme', ''),\n",
    "                    'identifier_uri': party.get('identifier', {}).get('uri', ''),\n",
    "                    'address_countryName': party.get('address', {}).get('countryName', ''),\n",
    "                    'address_locality': party.get('address', {}).get('locality', ''),\n",
    "                    'address_postalCode': party.get('address', {}).get('postalCode', ''),\n",
    "                    'address_region': party.get('address', {}).get('region', ''),\n",
    "                    'address_streetAddress': party.get('address', {}).get('streetAddress', ''),\n",
    "                    'contactPoint_email': party.get('contactPoint', {}).get('email', ''),\n",
    "                    'contactPoint_name': party.get('contactPoint', {}).get('name', ''),\n",
    "                    'contactPoint_telephone': party.get('contactPoint', {}).get('telephone', '')\n",
    "                }\n",
    "                datos.append(contrato_dict)\n",
    "\n",
    "# Creando el dataframe de Participantes_Proveedores\n",
    "df_participantes_proveedores = pd.DataFrame(datos)\n",
    "\n",
    "# Exportando el dataframe a un archivo csv_files\n",
    "df_participantes_proveedores.to_csv('../data/Processed/participantes_proveedores_v2.csv_files', index=False, encoding='utf-8')\n",
    "print(\"Proceso terminado. \\n     El dataset de Participantes_Proveedores tiene el siguiente tamaño: (filas x columnas)\")\n",
    "print(df_participantes_proveedores.shape)\n",
    "\n",
    "#Terminando lectura de tiempo de ejecución e imprimiendola\n",
    "elapsed_time = time.time() - start_time\n",
    "print(f\"Tiempo de ejecución: {elapsed_time} segundos\")"
   ]
  },
  {
   "cell_type": "markdown",
   "metadata": {},
   "source": [
    "### 4.2 Licitación (Origen: Tender)"
   ]
  },
  {
   "cell_type": "code",
   "execution_count": 4,
   "metadata": {},
   "outputs": [
    {
     "name": "stdout",
     "output_type": "stream",
     "text": [
      "Proceso terminado. \n",
      "     El dataset de Licitación tiene el siguiente tamaño: (filas x columnas)\n",
      "(2742267, 23)\n",
      "Tiempo de ejecución: 1207.5515050888062 segundos\n"
     ]
    }
   ],
   "source": [
    "# Iniciando lectura de tiempo de ejecución\n",
    "start_time = time.time()\n",
    "\n",
    "# Consulta actualizada a la base de datos Contratos_EDCA\n",
    "#consulta_actualizada = db['Contratos_EDCA_Bulk'].find({\"releases.buyer.id\": \"SESNA-330\"}, {})\n",
    "consulta_actualizada = db['Contratos_EDCA_Bulk'].find({}, {})\n",
    "\n",
    "# Creando una lista de diccionarios para facilitar la creación del dataframe\n",
    "datos = []\n",
    "for contrato in consulta_actualizada:\n",
    "    contrato_dict = {\n",
    "        'cve_expediente': '',\n",
    "        'procurementMethod': '',\n",
    "        'procurementMethod_rationale': '',\n",
    "        'status': '',\n",
    "        'title': '',\n",
    "        'description': '',\n",
    "        'has_enquiries': '',\n",
    "        'number_tenderers': '', \n",
    "        'tender_start_date': '',\n",
    "        'tender_end_date': '',\n",
    "        'award_start_date': '',\n",
    "        'award_end_date': '',\n",
    "        'enquiry_start_date': '',\n",
    "        'enquiry_end_date': '',\n",
    "        'procuring_entity_id': '',\n",
    "        'procuring_entity_name': '',\n",
    "        'value_currency_tender': '',\n",
    "        'value_amount_tender': '',\n",
    "        'award_criteria': '',\n",
    "        'framework_agreement': '',\n",
    "        'framework_agreement_platform': '',\n",
    "        'framework_agreement_title': '',\n",
    "        'submission_method': '', \n",
    "    }\n",
    "    try:\n",
    "        tender = contrato.get('releases', [{}])[0].get('tender', {})\n",
    "        contrato_dict['cve_expediente'] = tender.get('id', '')  # id\n",
    "        contrato_dict['procurementMethod'] = tender.get('procurementMethod', '')\n",
    "        contrato_dict['procurementMethod_rationale'] = tender.get('procurementMethodRationale', '')\n",
    "        contrato_dict['status'] = tender.get('status', '')\n",
    "        contrato_dict['title'] = tender.get('title', '')\n",
    "        contrato_dict['description'] = tender.get('description', '')\n",
    "        contrato_dict['has_enquiries'] = tender.get('hasEnquiries', '')\n",
    "        contrato_dict['number_tenderers'] = len(tender.get('tenderers', []))\n",
    "        contrato_dict['tender_start_date'] = tender.get('tenderPeriod', {}).get('startDate', '')\n",
    "        contrato_dict['tender_end_date'] = tender.get('tenderPeriod', {}).get('endDate', '')\n",
    "        contrato_dict['award_start_date'] = tender.get('awardPeriod', {}).get('startDate', '')\n",
    "        contrato_dict['award_end_date'] = tender.get('awardPeriod', {}).get('endDate', '')\n",
    "        contrato_dict['enquiry_start_date'] = tender.get('enquiryPeriod', {}).get('startDate', '')\n",
    "        contrato_dict['enquiry_end_date'] = tender.get('enquiryPeriod', {}).get('endDate', '')\n",
    "        contrato_dict['procuring_entity_id'] = tender.get('procuringEntity', {}).get('id', '')  \n",
    "        contrato_dict['procuring_entity_name'] = tender.get('procuringEntity', {}).get('name', '') \n",
    "        contrato_dict['value_currency_tender'] = tender.get('value', {}).get('currency', '')\n",
    "        contrato_dict['value_amount_tender'] = tender.get('value', {}).get('amount', '')\n",
    "        contrato_dict['award_criteria'] = tender.get('awardCriteria', '')\n",
    "        contrato_dict['framework_agreement'] = tender.get('frameworkAgreement', '')  \n",
    "        contrato_dict['framework_agreement_platform'] = tender.get('frameworkAgreementPlatform', '')\n",
    "        contrato_dict['framework_agreement_title'] = tender.get('frameworkAgreementTitle', '')\n",
    "        contrato_dict['submission_method'] = tender.get('submissionMethod', '')[0]\n",
    "           \n",
    "    except AttributeError:\n",
    "        pass\n",
    "    datos.append(contrato_dict)\n",
    "\n",
    "# Creando el dataframe de licitacion\n",
    "df_licitacion = pd.DataFrame(datos)\n",
    "\n",
    "# Exportando el dataframe a un archivo csv_files\n",
    "df_licitacion.to_csv('../data/Processed/licitacion_sesna_data.csv_files', index=False, encoding='utf-8')\n",
    "print(\"Proceso terminado. \\n     El dataset de Licitación tiene el siguiente tamaño: (filas x columnas)\")\n",
    "\n",
    "print(df_licitacion.shape)\n",
    "\n",
    "#Terminando lectura de tiempo de ejecución e imprimiendola\n",
    "elapsed_time = time.time() - start_time\n",
    "print(f\"Tiempo de ejecución: {elapsed_time} segundos\")"
   ]
  },
  {
   "cell_type": "markdown",
   "metadata": {},
   "source": [
    "### 4.3 Asignación (awards)"
   ]
  },
  {
   "cell_type": "code",
   "execution_count": 3,
   "metadata": {},
   "outputs": [
    {
     "name": "stdout",
     "output_type": "stream",
     "text": [
      "Proceso terminado. \n",
      "     El dataset de Asignación tiene el siguiente tamaño: (filas x columnas)\n",
      "(4163085, 19)\n",
      "Tiempo de ejecución: 1251.3326761722565 segundos\n"
     ]
    }
   ],
   "source": [
    "import pandas as pd\n",
    "\n",
    "# Iniciando lectura de tiempo de ejecución\n",
    "start_time = time.time()\n",
    "\n",
    "# Consulta actualizada a la base de datos Contratos_EDCA\n",
    "#consulta_actualizada = db['Contratos_EDCA_Bulk'].find({\"releases.buyer.id\": \"SESNA-330\"}, {})\n",
    "consulta_actualizada = db['Contratos_EDCA_Bulk'].find({}, {})\n",
    "\n",
    "# Creando una lista de diccionarios para facilitar la creación del dataframe\n",
    "datos = []\n",
    "for contrato in consulta_actualizada:\n",
    "    for award in contrato.get('releases', [{}])[0].get('awards', []):\n",
    "        contrato_dict = {\n",
    "            'cve_expediente': contrato.get('releases', [{}])[0].get('tender', {}).get('id', ''),\n",
    "            'cve_contrato': award.get('id', ''),\n",
    "            'status': award.get('status', ''),\n",
    "            'description_award': award.get('description', ''),\n",
    "            'title_award': award.get('title', ''),\n",
    "            'contract_start_date': award.get('contractPeriod', {}).get('startDate', ''),\n",
    "            'contract_end_date': award.get('contractPeriod', {}).get('endDate', ''),\n",
    "            'value_amount': award.get('value', {}).get('amount', ''),\n",
    "            'value_currency': award.get('value', {}).get('currency', ''),\n",
    "            'suppliers_id': award.get('suppliers', [{}])[0].get('id', ''),\n",
    "            'suppliers_name': award.get('suppliers', [{}])[0].get('name', ''),\n",
    "            'docs_url_awards': award.get('documents', [{}])[0].get('url', '') if award.get('documents') else '',\n",
    "            'docs_title_awards': award.get('documents', [{}])[0].get('title', '') if award.get('documents') else '',\n",
    "            'docs_language_awards': award.get('documents', [{}])[0].get('language', '') if award.get('documents') else '',\n",
    "            'docs_id_awards': award.get('documents', [{}])[0].get('id', '') if award.get('documents') else '',\n",
    "            'docs_format_awards': award.get('documents', [{}])[0].get('format', '') if award.get('documents') else '',\n",
    "            'docs_type_awards': award.get('documents', [{}])[0].get('documentType', '') if award.get('documents') else '',\n",
    "            'docs_descr_awards': award.get('documents', [{}])[0].get('description', '') if award.get('documents') else '',\n",
    "            'docs_date_published_awards': award.get('documents', [{}])[0].get('datePublished', '') if award.get('documents') else ''\n",
    "        }\n",
    "        datos.append(contrato_dict)\n",
    "\n",
    "# Creando el dataframe de Asignación\n",
    "df_asignacion = pd.DataFrame(datos)\n",
    "\n",
    "# Exportando el dataframe a un archivo csv_files\n",
    "df_asignacion.to_csv('../data/Processed/asignacion_sesna_data.csv_files', index=False, encoding='utf-8')\n",
    "print(\"Proceso terminado. \\n     El dataset de Asignación tiene el siguiente tamaño: (filas x columnas)\")\n",
    "print(df_asignacion.shape)\n",
    "\n",
    "#Terminando lectura de tiempo de ejecución e imprimiendola\n",
    "elapsed_time = time.time() - start_time\n",
    "print(f\"Tiempo de ejecución: {elapsed_time} segundos\")\n"
   ]
  },
  {
   "cell_type": "markdown",
   "metadata": {},
   "source": [
    "### 4.4 Comprador (Origen: Parties + Buyer)"
   ]
  },
  {
   "cell_type": "code",
   "execution_count": 5,
   "metadata": {},
   "outputs": [
    {
     "name": "stdout",
     "output_type": "stream",
     "text": [
      "Proceso terminado. \n",
      "     El dataset de Comprador tiene el siguiente tamaño: (filas x columnas)\n",
      "(5484414, 16)\n",
      "Tiempo de ejecución: 1336.5880494117737 segundos\n"
     ]
    }
   ],
   "source": [
    "# Iniciando lectura de tiempo de ejecución\n",
    "start_time = time.time()\n",
    "\n",
    "# Consulta actualizada a la base de datos Contratos_EDCA\n",
    "#consulta_actualizada = db['Contratos_EDCA_Bulk'].find({\"releases.buyer.id\": \"SESNA-330\"}, {})\n",
    "consulta_actualizada = db['Contratos_EDCA_Bulk'].find({}, {})\n",
    "\n",
    "# Creando una lista de diccionarios para facilitar la creación del dataframe\n",
    "datos = []\n",
    "for contrato in consulta_actualizada:\n",
    "    parties = contrato.get('releases', [{}])[0].get('parties', [])\n",
    "    for party in parties:\n",
    "        if party:  # Check if party is not None\n",
    "            roles = party.get('roles', [])\n",
    "            if 'buyer' in roles or 'procuringEntity' in roles:\n",
    "                contrato_dict = {\n",
    "                    'cve_expediente': contrato.get('releases', [{}])[0].get('tender', {}).get('id', ''),  # id\n",
    "                    'cve_contrato': contrato.get('releases', [{}])[0].get('awards', [{}])[0].get('id', ''),\n",
    "                    'identifier_id_inst': party.get('identifier', {}).get('id', ''),\n",
    "                    'roles': roles[0] if roles else '',\n",
    "                    'name': party.get('name', ''),\n",
    "                    'identifier_legal_name': party.get('identifier', {}).get('legalName', ''),\n",
    "                    'identifier_schema': party.get('identifier', {}).get('scheme', ''),\n",
    "                    'identifier_uri': party.get('identifier', {}).get('uri', ''),\n",
    "                    'addres_country_name': party.get('address', {}).get('countryName', ''),\n",
    "                    'addres_locality': party.get('address', {}).get('locality', ''),\n",
    "                    'address_postalcode': party.get('address', {}).get('postalCode', ''),\n",
    "                    'address_region': party.get('address', {}).get('region', ''),\n",
    "                    'addres_streetaddress': party.get('address', {}).get('streetAddress', ''),\n",
    "                    'contact_point_email': party.get('contactPoint', {}).get('email', ''),\n",
    "                    'contact_point_name': party.get('contactPoint', {}).get('name', ''),\n",
    "                    'contact_point_telephone': party.get('contactPoint', {}).get('telephone', '')\n",
    "                }\n",
    "                datos.append(contrato_dict)\n",
    "\n",
    "# Creando el dataframe de comprador\n",
    "df_comprador = pd.DataFrame(datos)\n",
    "\n",
    "# Exportando el dataframe a un archivo csv_files\n",
    "df_comprador.to_csv('../data/Processed/comprador_sesna_data.csv_files', index=False, encoding='utf-8')\n",
    "print(\"Proceso terminado. \\n     El dataset de Comprador tiene el siguiente tamaño: (filas x columnas)\")\n",
    "\n",
    "print(df_comprador.shape)\n",
    "\n",
    "#Terminando lectura de tiempo de ejecución e imprimiendola\n",
    "elapsed_time = time.time() - start_time\n",
    "print(f\"Tiempo de ejecución: {elapsed_time} segundos\")"
   ]
  },
  {
   "cell_type": "markdown",
   "metadata": {},
   "source": [
    "### 4.5 Documentos_Tender (Tender)"
   ]
  },
  {
   "cell_type": "code",
   "execution_count": 4,
   "metadata": {},
   "outputs": [
    {
     "name": "stdout",
     "output_type": "stream",
     "text": [
      "Proceso terminado. \n",
      "     El dataset de Documentos Tender tiene el siguiente tamaño: (filas x columnas)\n",
      "(3127507, 9)\n",
      "Tiempo de ejecución: 1080.4137599468231 segundos\n"
     ]
    }
   ],
   "source": [
    "import time\n",
    "import pandas as pd\n",
    "\n",
    "# Iniciando lectura de tiempo de ejecución\n",
    "start_time = time.time()\n",
    "\n",
    "# Consulta actualizada a la base de datos Contratos_EDCA\n",
    "consulta_actualizada = db['Contratos_EDCA_Bulk'].find({}, {})\n",
    "\n",
    "# Creando una lista de diccionarios para facilitar la creación del dataframe\n",
    "datos = []\n",
    "for contrato in consulta_actualizada:\n",
    "    # Accede a cada release. Asumimos que cada contrato tiene al menos un release.\n",
    "    releases = contrato.get('releases', [])\n",
    "    for release in releases:\n",
    "        # Accede a los documentos dentro de 'tender', si existen\n",
    "        tender = release.get('tender', {})\n",
    "        documents = tender.get('documents', [])\n",
    "        \n",
    "        if documents:\n",
    "            for document in documents:\n",
    "                contrato_dict = {\n",
    "                    'cve_expediente': tender.get('id', ''),\n",
    "                    'docs_title_tender': document.get('title', ''),\n",
    "                    'docs_type_tender': document.get('documentType', ''),\n",
    "                    'docs_language_tender': document.get('language', ''),\n",
    "                    'docs_date_published_tender': document.get('datePublished', ''),\n",
    "                    'docs_id_tender': document.get('id', ''),\n",
    "                    'docs_format_tender': document.get('format', ''),\n",
    "                    'docs_description_tender': document.get('description', ''),\n",
    "                    'docs_url_tender': document.get('url', '')\n",
    "                }\n",
    "                datos.append(contrato_dict)\n",
    "        else:\n",
    "            # Create a record with empty document fields if there are no documents\n",
    "            contrato_dict = {\n",
    "                'cve_expediente': tender.get('id', ''),\n",
    "                'docs_title_tender': '',\n",
    "                'docs_type_tender': '',\n",
    "                'docs_language_tender': '',\n",
    "                'docs_date_published_tender': '',\n",
    "                'docs_id_tender': '',\n",
    "                'docs_format_tender': '',\n",
    "                'docs_description_tender': '',\n",
    "                'docs_url_tender': ''\n",
    "            }\n",
    "            datos.append(contrato_dict)\n",
    "\n",
    "# Creando el dataframe de documentos tender\n",
    "df_documentos_tender = pd.DataFrame(datos)\n",
    "\n",
    "# Exportando el dataframe a un archivo csv_files\n",
    "df_documentos_tender.to_csv('../data/Processed/documentos_tender_sesna_data_V2.csv_files', index=False, encoding='utf-8')\n",
    "print(\"Proceso terminado. \\n     El dataset de Documentos Tender tiene el siguiente tamaño: (filas x columnas)\")\n",
    "print(df_documentos_tender.shape)\n",
    "\n",
    "# Terminando lectura de tiempo de ejecución e imprimiéndola\n",
    "elapsed_time = time.time() - start_time\n",
    "print(f\"Tiempo de ejecución: {elapsed_time} segundos\")\n"
   ]
  },
  {
   "cell_type": "markdown",
   "metadata": {},
   "source": [
    "### 4.6 ITEMS_ADQ (Origen: Awards)"
   ]
  },
  {
   "cell_type": "code",
   "execution_count": 3,
   "metadata": {},
   "outputs": [
    {
     "name": "stdout",
     "output_type": "stream",
     "text": [
      "Proceso terminado. \n",
      "     El dataset de Items tiene el siguiente tamaño: (filas x columnas)\n",
      "(12179867, 12)\n",
      "Tiempo de ejecución: 1883.3869903087616 segundos\n"
     ]
    }
   ],
   "source": [
    "# Iniciando lectura de tiempo de ejecución\n",
    "start_time = time.time()\n",
    "\n",
    "# Consulta actualizada a la base de datos Contratos_EDCA\n",
    "#consulta_actualizada = db['Contratos_EDCA_Bulk'].find({\"releases.buyer.id\": \"SESNA-330\"}, {})\n",
    "consulta_actualizada = db['Contratos_EDCA_Bulk'].find({}, {})\n",
    "\n",
    "# Creando una lista de diccionarios para facilitar la creación del dataframe\n",
    "datos = []\n",
    "for contrato in consulta_actualizada:\n",
    "    for award in contrato.get('releases', [{}])[0].get('awards', [{}]):\n",
    "        for item in award.get('items', []):\n",
    "            contrato_dict = {\n",
    "                'cve_expediente': contrato.get('releases', [{}])[0].get('tender', {}).get('id', ''),  # id\n",
    "                'cve_contrato': award.get('id', ''),\n",
    "                'items_unit_val_currency_awards': item.get('unit', {}).get('value', {}).get('currency', ''),\n",
    "                'items_unit_val_amount_awards': item.get('unit', {}).get('value', {}).get('amount', ''),\n",
    "                'items_unit_name_awards': item.get('unit', {}).get('name', ''),\n",
    "                'items_classion.uri': item.get('classification', {}).get('uri', ''),\n",
    "                'items_classi_scheme_awards': item.get('classification', {}).get('scheme', ''),\n",
    "                'items_class_id_awards': item.get('classification', {}).get('id', ''),\n",
    "                'items_class_description_awards': item.get('classification', {}).get('description', ''),\n",
    "                'items_quantity_awards': item.get('quantity', ''),\n",
    "                'items_id_awards': item.get('id', ''),\n",
    "                'items_description_awards': item.get('description', ''),\n",
    "            }\n",
    "            datos.append(contrato_dict)\n",
    "\n",
    "# Creando el dataframe de ITEMS\n",
    "df_items = pd.DataFrame(datos)\n",
    "\n",
    "# Exportando el dataframe a un archivo csv_files\n",
    "df_items.to_csv('../data/Processed/items_adq_sesna_data.csv_files', index=False, encoding='utf-8')\n",
    "print(\"Proceso terminado. \\n     El dataset de Items tiene el siguiente tamaño: (filas x columnas)\")\n",
    "\n",
    "print(df_items.shape)\n",
    "\n",
    "#Terminando lectura de tiempo de ejecución e imprimiendola\n",
    "elapsed_time = time.time() - start_time\n",
    "print(f\"Tiempo de ejecución: {elapsed_time} segundos\")"
   ]
  },
  {
   "cell_type": "markdown",
   "metadata": {},
   "source": [
    "### 4.7 ITEMS_TENDER (Origen: Tender)"
   ]
  },
  {
   "cell_type": "code",
   "execution_count": 5,
   "metadata": {},
   "outputs": [
    {
     "name": "stdout",
     "output_type": "stream",
     "text": [
      "Proceso terminado. \n",
      "     El dataset de Tender Items tiene el siguiente tamaño: (filas x columnas)\n",
      "(11419377, 7)\n",
      "Tiempo de ejecución: 1783.5181257724762 segundos\n"
     ]
    }
   ],
   "source": [
    "# Iniciando lectura de tiempo de ejecución\n",
    "start_time = time.time()\n",
    "\n",
    "# Consulta actualizada a la base de datos Contratos_EDCA\n",
    "consulta_actualizada = db['Contratos_EDCA_Bulk'].find({\"releases.buyer.id\": \"SESNA-330\"}, {})\n",
    "\n",
    "consulta_actualizada = db['Contratos_EDCA_Bulk'].find({}, {})\n",
    "\n",
    "# Creando una lista de diccionarios para facilitar la creación del dataframe\n",
    "datos = []\n",
    "for contrato in consulta_actualizada:\n",
    "    for item in contrato.get('releases', [{}])[0].get('tender', {}).get('items', []):\n",
    "        contrato_dict = {\n",
    "            'cve_expediente': contrato.get('releases', [{}])[0].get('tender', {}).get('id', ''), \n",
    "            'items_unit_name_tender': item.get('unit', {}).get('name', ''),\n",
    "            'items_class_id_tender': item.get('classification', {}).get('id', ''),\n",
    "            'items_class_description_tender': item.get('classification', {}).get('description', ''),\n",
    "            'items_quantity_tender': item.get('quantity', ''),\n",
    "            'items_id_tender': item.get('id', ''),\n",
    "            'items_description_tender': item.get('description', ''),\n",
    "        }\n",
    "        datos.append(contrato_dict)\n",
    "\n",
    "# Creando el dataframe de Tender Items\n",
    "df_tender_items = pd.DataFrame(datos)\n",
    "\n",
    "# Exportando el dataframe a un archivo csv_files\n",
    "df_tender_items.to_csv('../data/Processed/tender_items_sesna_data.csv_files', index=False, encoding='utf-8')\n",
    "print(\"Proceso terminado. \\n     El dataset de Tender Items tiene el siguiente tamaño: (filas x columnas)\")\n",
    "\n",
    "print(df_tender_items.shape)\n",
    "\n",
    "#Terminando lectura de tiempo de ejecución e imprimiendola\n",
    "elapsed_time = time.time() - start_time\n",
    "print(f\"Tiempo de ejecución: {elapsed_time} segundos\")"
   ]
  }
 ],
 "metadata": {
  "kernelspec": {
   "display_name": "Python 3 (ipykernel)",
   "language": "python",
   "name": "python3"
  },
  "language_info": {
   "codemirror_mode": {
    "name": "ipython",
    "version": 3
   },
   "file_extension": ".py",
   "mimetype": "text/x-python",
   "name": "python",
   "nbconvert_exporter": "python",
   "pygments_lexer": "ipython3",
   "version": "3.11.7"
  }
 },
 "nbformat": 4,
 "nbformat_minor": 4
}
