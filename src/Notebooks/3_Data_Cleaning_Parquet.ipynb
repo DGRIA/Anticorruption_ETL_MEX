{
 "cells": [
  {
   "cell_type": "markdown",
   "id": "75cc8e61-8813-4127-9b6b-530c87cb672c",
   "metadata": {},
   "source": [
    "## Licitación\n",
    "### 1. Duplicados"
   ]
  },
  {
   "cell_type": "code",
   "execution_count": 1,
   "id": "e144652e-89b1-457f-bd9b-816de0fe95fa",
   "metadata": {},
   "outputs": [],
   "source": [
    "import pandas as pd\n",
    "import time\n",
    "\n",
    "pd.set_option('display.max_columns', None)"
   ]
  },
  {
   "cell_type": "markdown",
   "id": "8af78baf-accf-4265-83c1-d7b3d8efe6d8",
   "metadata": {},
   "source": [
    "#### Leyendo el CSV de licitación y convirtiéndolo a parquet para manejar un formato más eficiente"
   ]
  },
  {
   "cell_type": "code",
   "execution_count": null,
   "id": "9203e65b-ad96-4870-98dd-e329d5ba9606",
   "metadata": {},
   "outputs": [],
   "source": [
    "start_time = time.time()\n",
    "\n",
    "# Read CSV and save to Parquet\n",
    "licitacion_df = pd.read_csv('../../data/Processed/csv_files/licitacion_data.csv')\n",
    "licitacion_df.to_parquet('../../data/Processed/parquet_files/licitacion_data.parquet')\n",
    "\n",
    "elapsed_time = time.time() - start_time\n",
    "print(f\"Tiempo de ejecución: {elapsed_time} segundos\")"
   ]
  },
  {
   "cell_type": "markdown",
   "id": "05a78b61-4a15-4463-bc1c-04a9d0de3b49",
   "metadata": {},
   "source": [
    "#### Leyendo el archivo parquet de licitación y mostrando los primeros rows"
   ]
  },
  {
   "cell_type": "code",
   "execution_count": null,
   "id": "8a8124fb-8b79-467d-95a5-0ece402dac0a",
   "metadata": {},
   "outputs": [],
   "source": [
    "start_time = time.time()\n",
    "\n",
    "# Read from Parquet (faster and uses less memory)\n",
    "licitacion_df = pd.read_parquet('../../data/Processed/parquet_files/licitacion_data.parquet')\n",
    "\n",
    "elapsed_time = time.time() - start_time\n",
    "print(f\"Tiempo de ejecución: {elapsed_time} segundos\")\n",
    "licitacion_df.head()"
   ]
  },
  {
   "cell_type": "code",
   "execution_count": null,
   "id": "014aa338-32d0-4fca-80eb-70aa07ca5d39",
   "metadata": {},
   "outputs": [],
   "source": [
    "licitacion_df.shape"
   ]
  },
  {
   "cell_type": "code",
   "execution_count": null,
   "id": "13e43e47-6faf-47b4-85a4-42696540e034",
   "metadata": {},
   "outputs": [],
   "source": [
    "licitacion_df.info()"
   ]
  },
  {
   "cell_type": "markdown",
   "id": "93da9d4f-904f-4bdf-accb-0adbe2fd2143",
   "metadata": {},
   "source": [
    "#### Estadísticas descriptivas para todas las variables"
   ]
  },
  {
   "cell_type": "code",
   "execution_count": null,
   "id": "9c38f183-1bf3-407e-b162-e12f99837c79",
   "metadata": {},
   "outputs": [],
   "source": [
    "licitacion_df = licitacion_df.astype({\n",
    "    'cve_expediente': 'string'})\n",
    "\n",
    "# Obtener estadísticas descriptivas para todas las variables\n",
    "descriptive_stats = licitacion_df.describe(include='all').transpose()\n",
    "\n",
    "# Mostrar las estadísticas descriptivas\n",
    "descriptive_stats"
   ]
  },
  {
   "cell_type": "markdown",
   "id": "85fc2429-5de8-4781-907d-fa9919146034",
   "metadata": {},
   "source": [
    "#### ¿Cuántos expedientes se repiten \"x\" número de veces\"?"
   ]
  },
  {
   "cell_type": "code",
   "execution_count": null,
   "id": "4be215ba-3e61-4e59-a514-143f44b44f9c",
   "metadata": {},
   "outputs": [],
   "source": [
    "# Step 1: Count the repetitions of each `cve_expediente`\n",
    "repetition_counts = licitacion_df.groupby('cve_expediente').size().reset_index(name='repetition_count')\n",
    "repetition_counts.sort_values(by='repetition_count', ascending=False)"
   ]
  },
  {
   "cell_type": "code",
   "execution_count": null,
   "id": "4ac2e958-f133-4d31-a3c5-9e9d1bd6bdb9",
   "metadata": {},
   "outputs": [],
   "source": [
    "# Step 2: Count the occurrences of these repetition counts\n",
    "repetition_summary = repetition_counts['repetition_count'].value_counts().reset_index()\n",
    "repetition_summary.columns = ['repetition_count', 'file_count']\n",
    "repetition_summary.head()"
   ]
  },
  {
   "cell_type": "code",
   "execution_count": null,
   "id": "95f50439-a7f4-4f8b-8c84-56bef4401bb8",
   "metadata": {},
   "outputs": [],
   "source": [
    "# Step 3: Sort the summary DataFrame by `repetition_count`\n",
    "repetition_summary = repetition_summary.sort_values(by='repetition_count').reset_index(drop=True)\n",
    "repetition_summary.head(10)\n",
    "\n",
    "# Ejemplo de lectura del dataframe:\n",
    "# * 7776 expedientes se repiten 2 veces\n",
    "# * 74 expedientes se repiten 3 veces... así sucesivamente"
   ]
  },
  {
   "cell_type": "markdown",
   "id": "974ff75a-7a83-48a7-adab-9a8135ce0a61",
   "metadata": {},
   "source": [
    "Mostrando los resultados en una gráfica (A partir de 2 repeticiones)"
   ]
  },
  {
   "cell_type": "code",
   "execution_count": null,
   "id": "6c7019ef-3de7-49cd-bc23-657634beac89",
   "metadata": {},
   "outputs": [],
   "source": [
    "import matplotlib.pyplot as plt\n",
    "\n",
    "\n",
    "# Exclude the first row of the DataFrame\n",
    "repetition_summary_filtered = repetition_summary.iloc[1:]\n",
    "\n",
    "# Plotting the horizontal bar graph\n",
    "plt.figure(figsize=(10, 6))  # Adjust the figure size as needed\n",
    "plt.barh(repetition_summary_filtered['repetition_count'], repetition_summary_filtered['file_count'], color='skyblue')\n",
    "plt.xlabel('Numero de Expedientes')\n",
    "plt.ylabel('Numero de Repeticiones')\n",
    "plt.title('Numero de Expedientes por Conteo de Repeticiones')\n",
    "plt.grid(axis='x', linestyle='--', alpha=0.7)\n",
    "\n",
    "# Annotating the bars with the count values\n",
    "for index, value in enumerate(repetition_summary_filtered['file_count']):\n",
    "    plt.text(value, repetition_summary_filtered['repetition_count'].iloc[index], str(value))\n",
    "\n",
    "plt.show()"
   ]
  },
  {
   "cell_type": "markdown",
   "id": "443248d0-bf96-4791-ac59-531c699d5476",
   "metadata": {},
   "source": [
    "### 1.1 Expedientes con más de un award_end_date"
   ]
  },
  {
   "cell_type": "markdown",
   "id": "99242537-4cc7-4535-9ad5-cf9fb5f597ad",
   "metadata": {},
   "source": [
    "#### Convirtiendo award_end_date a tipo datetime"
   ]
  },
  {
   "cell_type": "code",
   "execution_count": null,
   "id": "2c7dcf11-8bd6-49d7-bf2d-551f1ded32b5",
   "metadata": {},
   "outputs": [],
   "source": [
    "# Assuming licitacion_df is your DataFrame and 'award_end_date' is the column with the ISO 8601 dates\n",
    "licitacion_df['award_end_date'] = pd.to_datetime(licitacion_df['award_end_date'], errors='coerce')\n",
    "\n",
    "# Check for any entries where dates could not be parsed\n",
    "invalid_dates = licitacion_df[licitacion_df['award_end_date'].isna()]\n",
    "if not invalid_dates.empty:\n",
    "    print(\"Entries with invalid dates:\")\n",
    "    print(invalid_dates.shape)\n",
    "else:\n",
    "    print(\"All dates converted successfully.\")"
   ]
  },
  {
   "cell_type": "code",
   "execution_count": null,
   "id": "2a52a0ff-86f7-49fc-ac68-08337583857e",
   "metadata": {},
   "outputs": [],
   "source": [
    "licitacion_df.info()"
   ]
  },
  {
   "cell_type": "markdown",
   "id": "2da8bc81-bc3c-47c5-9bfb-417ce4e23556",
   "metadata": {},
   "source": [
    "#### Priorizando la fecha más reciente para cada expediente\n",
    "Si hay más de una fila con la fecha más reciente conservamos todas las filas con esa fecha para después priorizar por status."
   ]
  },
  {
   "cell_type": "code",
   "execution_count": null,
   "id": "53b4e508-8931-4403-a90b-4f0170cfca08",
   "metadata": {},
   "outputs": [],
   "source": [
    "# Sort the DataFrame by 'cve_expediente' and 'award_end_date' descending\n",
    "sorted_df = licitacion_df.sort_values(by=['cve_expediente', 'award_end_date'], ascending=[True, False])\n",
    "\n",
    "# Get the most recent date for each `cve_expediente`\n",
    "most_recent_dates = sorted_df.groupby('cve_expediente')['award_end_date'].max().reset_index()\n",
    "\n",
    "# Merge to get only the rows with the most recent `award_end_date`\n",
    "merged_df = pd.merge(sorted_df, most_recent_dates, on=['cve_expediente', 'award_end_date'], how='inner')\n",
    "\n",
    "# Optionally, check the shape of the DataFrame\n",
    "print(\"DataFrame shape after keeping the most recent dates:\", merged_df.shape)\n",
    "\n",
    "# Display the first few rows of the cleaned DataFrame to verify\n",
    "merged_df.head()"
   ]
  },
  {
   "cell_type": "markdown",
   "id": "9ea67550-977e-4705-bc94-e03e138942a4",
   "metadata": {},
   "source": [
    "### 1.2 Expedientes con más de un status"
   ]
  },
  {
   "cell_type": "markdown",
   "id": "84744d7c-7421-40b2-bd60-a6953d3f1289",
   "metadata": {},
   "source": [
    "#### Mostrando valores únicos de status"
   ]
  },
  {
   "cell_type": "code",
   "execution_count": null,
   "id": "652a2fa0-83be-4ca6-a9b1-759c60728018",
   "metadata": {},
   "outputs": [],
   "source": [
    "# Display all distinct status values from the original DataFrame\n",
    "distinct_statuses = merged_df['status'].unique()\n",
    "print(\"Distinct Statuses Across DataFrame:\")\n",
    "print(distinct_statuses)"
   ]
  },
  {
   "cell_type": "markdown",
   "id": "a2593bb4-3a07-409f-ae1c-15f448bd1511",
   "metadata": {},
   "source": [
    "#### Identificando expedientes con más de un status: 12,962 "
   ]
  },
  {
   "cell_type": "code",
   "execution_count": null,
   "id": "0962275a-e88e-4119-97ff-fd715c6d9a77",
   "metadata": {},
   "outputs": [],
   "source": [
    "# Aggregate the unique statuses for each cve_expediente\n",
    "agg_df = merged_df.groupby('cve_expediente')['status'].agg(lambda x: list(set(x))).reset_index()\n",
    "\n",
    "# Filter for cve_expediente with more than one distinct status\n",
    "multiple_statuses_df = agg_df[agg_df['status'].apply(len) > 1]\n",
    "\n",
    "# Display the cve_expediente with multiple statuses\n",
    "print(\"CVE Expediente with Multiple Statuses:\")\n",
    "multiple_statuses_df.head(10)"
   ]
  },
  {
   "cell_type": "markdown",
   "id": "c9212286-136c-4eda-9dcb-2db105b89950",
   "metadata": {},
   "source": [
    "#### Limpiando duplicados por status"
   ]
  },
  {
   "cell_type": "code",
   "execution_count": null,
   "id": "5278933a-cd4e-485d-b398-609ab68f2124",
   "metadata": {},
   "outputs": [],
   "source": [
    "start_time = time.time()\n",
    "\n",
    "# Define a custom sort key based on status priority\n",
    "status_priority = {'complete': 1, 'unsuccessful': 2, 'active': 3}\n",
    "merged_df['status_priority'] = merged_df['status'].map(status_priority)\n",
    "\n",
    "# Sort the DataFrame by 'cve_expediente' and 'status_priority'\n",
    "sorted_df = merged_df.sort_values(by=['cve_expediente', 'status_priority'])\n",
    "\n",
    "# Drop duplicates, keeping the first entry (highest priority status) for each 'cve_expediente'\n",
    "cleaned_df = sorted_df.drop_duplicates(subset='cve_expediente', keep='first')\n",
    "\n",
    "# drop the 'status_priority' column as it's no longer needed\n",
    "cleaned_df = cleaned_df.drop(columns=['status_priority'])\n",
    "\n",
    "# Display the cleaned DataFrame\n",
    "print(cleaned_df.shape)\n",
    "\n",
    "elapsed_time = time.time() - start_time\n",
    "print(f\"Tiempo de ejecución: {elapsed_time} segundos\")"
   ]
  },
  {
   "cell_type": "markdown",
   "id": "42efe74f-4985-4ca6-8779-e814d6d8418b",
   "metadata": {},
   "source": [
    "#### Confirmando 0 expedientes con más de un status"
   ]
  },
  {
   "cell_type": "code",
   "execution_count": null,
   "id": "f60e93fb-3dd0-43a8-a531-9c75c74a7e21",
   "metadata": {},
   "outputs": [],
   "source": [
    "# Aggregate the unique statuses for each cve_expediente\n",
    "agg_df = cleaned_df.groupby('cve_expediente')['status'].agg(lambda x: list(set(x))).reset_index()\n",
    "\n",
    "# Filter for cve_expediente with more than one distinct status\n",
    "multiple_statuses_df = agg_df[agg_df['status'].apply(len) > 1]\n",
    "\n",
    "# Display the cve_expediente with multiple statuses\n",
    "print(\"CVE Expediente with Multiple Statuses:\")\n",
    "multiple_statuses_df"
   ]
  },
  {
   "cell_type": "code",
   "execution_count": null,
   "id": "5dd25589-2427-4108-a8c7-81852a72f93a",
   "metadata": {},
   "outputs": [],
   "source": [
    "cleaned_df.to_csv('../../data/Processed/csv_files/licitacion_data.csv', index=False, encoding='utf-8')\n",
    "\n",
    "print(\"DataFrame has been saved to 'licitacion_data.csv'\")"
   ]
  },
  {
   "cell_type": "markdown",
   "id": "58f4d759-afd5-4d84-a24f-4b10204a42cb",
   "metadata": {},
   "source": [
    "## 2. Asignación"
   ]
  },
  {
   "cell_type": "markdown",
   "id": "87df054e-5400-4a1e-a9a2-6860029b075b",
   "metadata": {},
   "source": [
    "#### Leyendo el CSV de Asignación y convirtiéndolo a parquet para manejar un formato más eficiente"
   ]
  },
  {
   "cell_type": "code",
   "execution_count": 2,
   "id": "17214941-29b8-4e49-8011-6fb1f717fb82",
   "metadata": {},
   "outputs": [
    {
     "name": "stdout",
     "output_type": "stream",
     "text": [
      "Tiempo de ejecución: 45.31891489028931 segundos\n"
     ]
    }
   ],
   "source": [
    "start_time = time.time()\n",
    "\n",
    "# Read CSV and save to Parquet\n",
    "asignacion_df = pd.read_csv('../../data/Processed/csv_files/asignacion_data.csv')\n",
    "asignacion_df.to_parquet('../../data/Processed/parquet_files/asignacion_data.parquet')\n",
    "\n",
    "elapsed_time = time.time() - start_time\n",
    "print(f\"Tiempo de ejecución: {elapsed_time} segundos\")"
   ]
  },
  {
   "cell_type": "markdown",
   "id": "3e401a03-587b-4cb9-b0d8-7e2fc2f3e946",
   "metadata": {},
   "source": [
    "#### Leyendo el archivo parquet de Asignación y mostrando los primeros rows"
   ]
  },
  {
   "cell_type": "code",
   "execution_count": 3,
   "id": "1e19fe89-52c6-4b3c-89d1-3d9f11dd417d",
   "metadata": {},
   "outputs": [
    {
     "name": "stdout",
     "output_type": "stream",
     "text": [
      "Tiempo de ejecución: 9.036490440368652 segundos\n"
     ]
    },
    {
     "data": {
      "text/html": [
       "<div>\n",
       "<style scoped>\n",
       "    .dataframe tbody tr th:only-of-type {\n",
       "        vertical-align: middle;\n",
       "    }\n",
       "\n",
       "    .dataframe tbody tr th {\n",
       "        vertical-align: top;\n",
       "    }\n",
       "\n",
       "    .dataframe thead th {\n",
       "        text-align: right;\n",
       "    }\n",
       "</style>\n",
       "<table border=\"1\" class=\"dataframe\">\n",
       "  <thead>\n",
       "    <tr style=\"text-align: right;\">\n",
       "      <th></th>\n",
       "      <th>cve_expediente</th>\n",
       "      <th>cve_contrato</th>\n",
       "      <th>status</th>\n",
       "      <th>description_award</th>\n",
       "      <th>title_award</th>\n",
       "      <th>contract_start_date</th>\n",
       "      <th>contract_end_date</th>\n",
       "      <th>value_amount</th>\n",
       "      <th>value_currency</th>\n",
       "      <th>suppliers_id</th>\n",
       "      <th>suppliers_name</th>\n",
       "      <th>docs_url_awards</th>\n",
       "      <th>docs_title_awards</th>\n",
       "      <th>docs_language_awards</th>\n",
       "      <th>docs_id_awards</th>\n",
       "      <th>docs_format_awards</th>\n",
       "      <th>docs_type_awards</th>\n",
       "      <th>docs_descr_awards</th>\n",
       "      <th>docs_date_published_awards</th>\n",
       "    </tr>\n",
       "  </thead>\n",
       "  <tbody>\n",
       "    <tr>\n",
       "      <th>0</th>\n",
       "      <td>1892834</td>\n",
       "      <td>2038777</td>\n",
       "      <td>active</td>\n",
       "      <td>SERVICIOS MEDICOS SUBROGADOS DE ESPECIALIZACIO...</td>\n",
       "      <td>SERVICIOS MEDICOS SUBROGADOS DE ESPECIALIZACIO...</td>\n",
       "      <td>2019-03-19T00:00:00Z</td>\n",
       "      <td>2019-06-30T23:59:00Z</td>\n",
       "      <td>150000.00</td>\n",
       "      <td>MXN</td>\n",
       "      <td>04B3DC027ADD775B746959A20A80292A</td>\n",
       "      <td>APLICACIONES INDUSTRIALES DE CALIDAD, S.A. DE ...</td>\n",
       "      <td>None</td>\n",
       "      <td>None</td>\n",
       "      <td>None</td>\n",
       "      <td>NaN</td>\n",
       "      <td>None</td>\n",
       "      <td>None</td>\n",
       "      <td>None</td>\n",
       "      <td>None</td>\n",
       "    </tr>\n",
       "    <tr>\n",
       "      <th>1</th>\n",
       "      <td>2010079</td>\n",
       "      <td>2186605</td>\n",
       "      <td>active</td>\n",
       "      <td>TALLER CULTURAL DE YOGA PARA JUBILADOS Y PENSI...</td>\n",
       "      <td>TALLER CULTURAL DE YOGA PARA JUBILADOS Y PENSI...</td>\n",
       "      <td>2019-09-01T00:00:00Z</td>\n",
       "      <td>2019-12-31T23:59:00Z</td>\n",
       "      <td>12068.80</td>\n",
       "      <td>MXN</td>\n",
       "      <td>5BECD127FEA6806B2A404D2B14A9CEEE</td>\n",
       "      <td>LEONOR HILDA BARRIOS SANCHEZ</td>\n",
       "      <td>None</td>\n",
       "      <td>None</td>\n",
       "      <td>None</td>\n",
       "      <td>NaN</td>\n",
       "      <td>None</td>\n",
       "      <td>None</td>\n",
       "      <td>None</td>\n",
       "      <td>None</td>\n",
       "    </tr>\n",
       "    <tr>\n",
       "      <th>2</th>\n",
       "      <td>2039835</td>\n",
       "      <td>2591875</td>\n",
       "      <td>active</td>\n",
       "      <td>SUMINISTRO DE 301 MONEDEROS ELECTRÓNICOS</td>\n",
       "      <td>SUMINISTRO DE 301 MONEDEROS ELECTRÓNICOS</td>\n",
       "      <td>2019-12-18T09:00:00Z</td>\n",
       "      <td>2019-12-20T12:59:00Z</td>\n",
       "      <td>3625000.00</td>\n",
       "      <td>MXN</td>\n",
       "      <td>TIN090211JC9</td>\n",
       "      <td>TOKA INTERNACIONAL S A P I DE CV</td>\n",
       "      <td>None</td>\n",
       "      <td>None</td>\n",
       "      <td>None</td>\n",
       "      <td>NaN</td>\n",
       "      <td>None</td>\n",
       "      <td>None</td>\n",
       "      <td>None</td>\n",
       "      <td>None</td>\n",
       "    </tr>\n",
       "    <tr>\n",
       "      <th>3</th>\n",
       "      <td>2058673</td>\n",
       "      <td>2248316</td>\n",
       "      <td>active</td>\n",
       "      <td>CONTRATO CELEBRADO PARA EL SERVICIO DE LIMPIEZ...</td>\n",
       "      <td>Servicio de Limpieza</td>\n",
       "      <td>2020-02-02T00:00:00Z</td>\n",
       "      <td>2020-12-31T23:59:00Z</td>\n",
       "      <td>251900.00</td>\n",
       "      <td>MXN</td>\n",
       "      <td>3CEDE48206129D952B3EA0B6EA3E093D</td>\n",
       "      <td>PATRICIA SELENE SOLIS GALLEGOS</td>\n",
       "      <td>None</td>\n",
       "      <td>None</td>\n",
       "      <td>None</td>\n",
       "      <td>NaN</td>\n",
       "      <td>None</td>\n",
       "      <td>None</td>\n",
       "      <td>None</td>\n",
       "      <td>None</td>\n",
       "    </tr>\n",
       "    <tr>\n",
       "      <th>4</th>\n",
       "      <td>2071481</td>\n",
       "      <td>2264071</td>\n",
       "      <td>active</td>\n",
       "      <td>SERVICIOS PROFESIONALES</td>\n",
       "      <td>SERVICIOS PROFESIONALES</td>\n",
       "      <td>2020-01-16T09:00:00Z</td>\n",
       "      <td>2020-04-30T18:00:00Z</td>\n",
       "      <td>64870.68</td>\n",
       "      <td>MXN</td>\n",
       "      <td>AAB6B3F29F29293964209B17E7D72DAC</td>\n",
       "      <td>LUIS ALBERTO ESPINOZA VAZQUEZ</td>\n",
       "      <td>None</td>\n",
       "      <td>None</td>\n",
       "      <td>None</td>\n",
       "      <td>NaN</td>\n",
       "      <td>None</td>\n",
       "      <td>None</td>\n",
       "      <td>None</td>\n",
       "      <td>None</td>\n",
       "    </tr>\n",
       "  </tbody>\n",
       "</table>\n",
       "</div>"
      ],
      "text/plain": [
       "   cve_expediente  cve_contrato  status  \\\n",
       "0         1892834       2038777  active   \n",
       "1         2010079       2186605  active   \n",
       "2         2039835       2591875  active   \n",
       "3         2058673       2248316  active   \n",
       "4         2071481       2264071  active   \n",
       "\n",
       "                                   description_award  \\\n",
       "0  SERVICIOS MEDICOS SUBROGADOS DE ESPECIALIZACIO...   \n",
       "1  TALLER CULTURAL DE YOGA PARA JUBILADOS Y PENSI...   \n",
       "2           SUMINISTRO DE 301 MONEDEROS ELECTRÓNICOS   \n",
       "3  CONTRATO CELEBRADO PARA EL SERVICIO DE LIMPIEZ...   \n",
       "4                            SERVICIOS PROFESIONALES   \n",
       "\n",
       "                                         title_award   contract_start_date  \\\n",
       "0  SERVICIOS MEDICOS SUBROGADOS DE ESPECIALIZACIO...  2019-03-19T00:00:00Z   \n",
       "1  TALLER CULTURAL DE YOGA PARA JUBILADOS Y PENSI...  2019-09-01T00:00:00Z   \n",
       "2           SUMINISTRO DE 301 MONEDEROS ELECTRÓNICOS  2019-12-18T09:00:00Z   \n",
       "3                               Servicio de Limpieza  2020-02-02T00:00:00Z   \n",
       "4                            SERVICIOS PROFESIONALES  2020-01-16T09:00:00Z   \n",
       "\n",
       "      contract_end_date  value_amount value_currency  \\\n",
       "0  2019-06-30T23:59:00Z     150000.00            MXN   \n",
       "1  2019-12-31T23:59:00Z      12068.80            MXN   \n",
       "2  2019-12-20T12:59:00Z    3625000.00            MXN   \n",
       "3  2020-12-31T23:59:00Z     251900.00            MXN   \n",
       "4  2020-04-30T18:00:00Z      64870.68            MXN   \n",
       "\n",
       "                       suppliers_id  \\\n",
       "0  04B3DC027ADD775B746959A20A80292A   \n",
       "1  5BECD127FEA6806B2A404D2B14A9CEEE   \n",
       "2                      TIN090211JC9   \n",
       "3  3CEDE48206129D952B3EA0B6EA3E093D   \n",
       "4  AAB6B3F29F29293964209B17E7D72DAC   \n",
       "\n",
       "                                      suppliers_name docs_url_awards  \\\n",
       "0  APLICACIONES INDUSTRIALES DE CALIDAD, S.A. DE ...            None   \n",
       "1                       LEONOR HILDA BARRIOS SANCHEZ            None   \n",
       "2                   TOKA INTERNACIONAL S A P I DE CV            None   \n",
       "3                     PATRICIA SELENE SOLIS GALLEGOS            None   \n",
       "4                      LUIS ALBERTO ESPINOZA VAZQUEZ            None   \n",
       "\n",
       "  docs_title_awards docs_language_awards  docs_id_awards docs_format_awards  \\\n",
       "0              None                 None             NaN               None   \n",
       "1              None                 None             NaN               None   \n",
       "2              None                 None             NaN               None   \n",
       "3              None                 None             NaN               None   \n",
       "4              None                 None             NaN               None   \n",
       "\n",
       "  docs_type_awards docs_descr_awards docs_date_published_awards  \n",
       "0             None              None                       None  \n",
       "1             None              None                       None  \n",
       "2             None              None                       None  \n",
       "3             None              None                       None  \n",
       "4             None              None                       None  "
      ]
     },
     "execution_count": 3,
     "metadata": {},
     "output_type": "execute_result"
    }
   ],
   "source": [
    "start_time = time.time()\n",
    "\n",
    "# Read from Parquet (faster and uses less memory)\n",
    "asignacion_df = pd.read_parquet('../../data/Processed/parquet_files/asignacion_data.parquet')\n",
    "\n",
    "elapsed_time = time.time() - start_time\n",
    "print(f\"Tiempo de ejecución: {elapsed_time} segundos\")\n",
    "asignacion_df.head()"
   ]
  },
  {
   "cell_type": "code",
   "execution_count": null,
   "id": "86f5e30d-61e3-4e9c-be58-353d44a38496",
   "metadata": {},
   "outputs": [],
   "source": [
    "asignacion_df.shape"
   ]
  },
  {
   "cell_type": "code",
   "execution_count": null,
   "id": "817d5e57-295f-48e4-9fc3-9b957a6d2d76",
   "metadata": {},
   "outputs": [],
   "source": [
    "asignacion_df.info()"
   ]
  },
  {
   "cell_type": "markdown",
   "id": "4c8ea209-8f0a-4c94-94d8-fe78e1af42c8",
   "metadata": {},
   "source": [
    "### 2.1 Removiendo duplicados al priorizar la fecha más reciente de contract_start_date         "
   ]
  },
  {
   "cell_type": "code",
   "execution_count": 4,
   "id": "5c43944e-172f-49df-a764-399bfbb4dbe6",
   "metadata": {},
   "outputs": [
    {
     "name": "stdout",
     "output_type": "stream",
     "text": [
      "DataFrame shape after removing duplicates: (828542, 19)\n"
     ]
    },
    {
     "data": {
      "text/html": [
       "<div>\n",
       "<style scoped>\n",
       "    .dataframe tbody tr th:only-of-type {\n",
       "        vertical-align: middle;\n",
       "    }\n",
       "\n",
       "    .dataframe tbody tr th {\n",
       "        vertical-align: top;\n",
       "    }\n",
       "\n",
       "    .dataframe thead th {\n",
       "        text-align: right;\n",
       "    }\n",
       "</style>\n",
       "<table border=\"1\" class=\"dataframe\">\n",
       "  <thead>\n",
       "    <tr style=\"text-align: right;\">\n",
       "      <th></th>\n",
       "      <th>cve_expediente</th>\n",
       "      <th>cve_contrato</th>\n",
       "      <th>status</th>\n",
       "      <th>description_award</th>\n",
       "      <th>title_award</th>\n",
       "      <th>contract_start_date</th>\n",
       "      <th>contract_end_date</th>\n",
       "      <th>value_amount</th>\n",
       "      <th>value_currency</th>\n",
       "      <th>suppliers_id</th>\n",
       "      <th>suppliers_name</th>\n",
       "      <th>docs_url_awards</th>\n",
       "      <th>docs_title_awards</th>\n",
       "      <th>docs_language_awards</th>\n",
       "      <th>docs_id_awards</th>\n",
       "      <th>docs_format_awards</th>\n",
       "      <th>docs_type_awards</th>\n",
       "      <th>docs_descr_awards</th>\n",
       "      <th>docs_date_published_awards</th>\n",
       "    </tr>\n",
       "  </thead>\n",
       "  <tbody>\n",
       "    <tr>\n",
       "      <th>591239</th>\n",
       "      <td>975480</td>\n",
       "      <td>964520</td>\n",
       "      <td>active</td>\n",
       "      <td>CONTRATO PLURIANUAL 2015 ¿ 2018, BAJO LA MODAL...</td>\n",
       "      <td>SERVICIO INTEGRAL DE ARRENDAMIENTO DE EQUIPO D...</td>\n",
       "      <td>2015-06-01 00:00:00+00:00</td>\n",
       "      <td>2018-05-31T23:59:00Z</td>\n",
       "      <td>8474040.00</td>\n",
       "      <td>MXN</td>\n",
       "      <td>TPL030219RE3</td>\n",
       "      <td>TEC PLUSS SA DE CV</td>\n",
       "      <td>None</td>\n",
       "      <td>None</td>\n",
       "      <td>None</td>\n",
       "      <td>NaN</td>\n",
       "      <td>None</td>\n",
       "      <td>None</td>\n",
       "      <td>None</td>\n",
       "      <td>None</td>\n",
       "    </tr>\n",
       "    <tr>\n",
       "      <th>10457</th>\n",
       "      <td>1016499</td>\n",
       "      <td>1019413</td>\n",
       "      <td>active</td>\n",
       "      <td>SERVICIO DE ATENCIÓN DE ASUNTOS LABORALES, REV...</td>\n",
       "      <td>SERVICIOS DE ASESORÍA JURÍDICA</td>\n",
       "      <td>2016-01-01 00:00:00+00:00</td>\n",
       "      <td>2016-12-31T23:59:00Z</td>\n",
       "      <td>2844000.00</td>\n",
       "      <td>MXN</td>\n",
       "      <td>VAB140128J79</td>\n",
       "      <td>VERNIS ABOGADOS SC</td>\n",
       "      <td>None</td>\n",
       "      <td>None</td>\n",
       "      <td>None</td>\n",
       "      <td>NaN</td>\n",
       "      <td>None</td>\n",
       "      <td>None</td>\n",
       "      <td>None</td>\n",
       "      <td>None</td>\n",
       "    </tr>\n",
       "    <tr>\n",
       "      <th>10455</th>\n",
       "      <td>1004872</td>\n",
       "      <td>1025677</td>\n",
       "      <td>active</td>\n",
       "      <td>MANTENIMIENTO PREVENTIVO Y CORRECTIVO DEL PARQ...</td>\n",
       "      <td>MANTENIMIENTO PREVENTIVO Y CORRECTIVO AL PARQU...</td>\n",
       "      <td>2016-02-29 17:01:00+00:00</td>\n",
       "      <td>2016-12-31T12:00:00Z</td>\n",
       "      <td>650000.02</td>\n",
       "      <td>MXN</td>\n",
       "      <td>ASI941004139</td>\n",
       "      <td>AUTOMOTRIZ Y SERVICIO INTEGRAL SA DE CV</td>\n",
       "      <td>None</td>\n",
       "      <td>None</td>\n",
       "      <td>None</td>\n",
       "      <td>NaN</td>\n",
       "      <td>None</td>\n",
       "      <td>None</td>\n",
       "      <td>None</td>\n",
       "      <td>None</td>\n",
       "    </tr>\n",
       "    <tr>\n",
       "      <th>10459</th>\n",
       "      <td>1036167</td>\n",
       "      <td>1043633</td>\n",
       "      <td>active</td>\n",
       "      <td>None</td>\n",
       "      <td>AGROASEMEX, S.A.</td>\n",
       "      <td>2016-03-01 00:00:00+00:00</td>\n",
       "      <td>2016-12-31T23:59:00Z</td>\n",
       "      <td>3159900.00</td>\n",
       "      <td>MXN</td>\n",
       "      <td>AGR900605VC6</td>\n",
       "      <td>AGROASEMEX, S.A.</td>\n",
       "      <td>None</td>\n",
       "      <td>None</td>\n",
       "      <td>None</td>\n",
       "      <td>NaN</td>\n",
       "      <td>None</td>\n",
       "      <td>None</td>\n",
       "      <td>None</td>\n",
       "      <td>None</td>\n",
       "    </tr>\n",
       "    <tr>\n",
       "      <th>10464</th>\n",
       "      <td>1057507</td>\n",
       "      <td>1070559</td>\n",
       "      <td>active</td>\n",
       "      <td>Servicios informáticos de adecuación, mantenim...</td>\n",
       "      <td>Servicios informáticos de adecuación, mantenim...</td>\n",
       "      <td>2017-01-01 09:00:00+00:00</td>\n",
       "      <td>2017-02-28T23:59:00Z</td>\n",
       "      <td>201116.60</td>\n",
       "      <td>MXN</td>\n",
       "      <td>CSB080408DB8</td>\n",
       "      <td>CONSULTORES Y SOLUCIONES BAJAWARE S DE RL DE CV</td>\n",
       "      <td>None</td>\n",
       "      <td>None</td>\n",
       "      <td>None</td>\n",
       "      <td>NaN</td>\n",
       "      <td>None</td>\n",
       "      <td>None</td>\n",
       "      <td>None</td>\n",
       "      <td>None</td>\n",
       "    </tr>\n",
       "  </tbody>\n",
       "</table>\n",
       "</div>"
      ],
      "text/plain": [
       "        cve_expediente  cve_contrato  status  \\\n",
       "591239          975480        964520  active   \n",
       "10457          1016499       1019413  active   \n",
       "10455          1004872       1025677  active   \n",
       "10459          1036167       1043633  active   \n",
       "10464          1057507       1070559  active   \n",
       "\n",
       "                                        description_award  \\\n",
       "591239  CONTRATO PLURIANUAL 2015 ¿ 2018, BAJO LA MODAL...   \n",
       "10457   SERVICIO DE ATENCIÓN DE ASUNTOS LABORALES, REV...   \n",
       "10455   MANTENIMIENTO PREVENTIVO Y CORRECTIVO DEL PARQ...   \n",
       "10459                                                None   \n",
       "10464   Servicios informáticos de adecuación, mantenim...   \n",
       "\n",
       "                                              title_award  \\\n",
       "591239  SERVICIO INTEGRAL DE ARRENDAMIENTO DE EQUIPO D...   \n",
       "10457                      SERVICIOS DE ASESORÍA JURÍDICA   \n",
       "10455   MANTENIMIENTO PREVENTIVO Y CORRECTIVO AL PARQU...   \n",
       "10459                                    AGROASEMEX, S.A.   \n",
       "10464   Servicios informáticos de adecuación, mantenim...   \n",
       "\n",
       "             contract_start_date     contract_end_date  value_amount  \\\n",
       "591239 2015-06-01 00:00:00+00:00  2018-05-31T23:59:00Z    8474040.00   \n",
       "10457  2016-01-01 00:00:00+00:00  2016-12-31T23:59:00Z    2844000.00   \n",
       "10455  2016-02-29 17:01:00+00:00  2016-12-31T12:00:00Z     650000.02   \n",
       "10459  2016-03-01 00:00:00+00:00  2016-12-31T23:59:00Z    3159900.00   \n",
       "10464  2017-01-01 09:00:00+00:00  2017-02-28T23:59:00Z     201116.60   \n",
       "\n",
       "       value_currency  suppliers_id  \\\n",
       "591239            MXN  TPL030219RE3   \n",
       "10457             MXN  VAB140128J79   \n",
       "10455             MXN  ASI941004139   \n",
       "10459             MXN  AGR900605VC6   \n",
       "10464             MXN  CSB080408DB8   \n",
       "\n",
       "                                         suppliers_name docs_url_awards  \\\n",
       "591239                               TEC PLUSS SA DE CV            None   \n",
       "10457                                VERNIS ABOGADOS SC            None   \n",
       "10455           AUTOMOTRIZ Y SERVICIO INTEGRAL SA DE CV            None   \n",
       "10459                                  AGROASEMEX, S.A.            None   \n",
       "10464   CONSULTORES Y SOLUCIONES BAJAWARE S DE RL DE CV            None   \n",
       "\n",
       "       docs_title_awards docs_language_awards  docs_id_awards  \\\n",
       "591239              None                 None             NaN   \n",
       "10457               None                 None             NaN   \n",
       "10455               None                 None             NaN   \n",
       "10459               None                 None             NaN   \n",
       "10464               None                 None             NaN   \n",
       "\n",
       "       docs_format_awards docs_type_awards docs_descr_awards  \\\n",
       "591239               None             None              None   \n",
       "10457                None             None              None   \n",
       "10455                None             None              None   \n",
       "10459                None             None              None   \n",
       "10464                None             None              None   \n",
       "\n",
       "       docs_date_published_awards  \n",
       "591239                       None  \n",
       "10457                        None  \n",
       "10455                        None  \n",
       "10459                        None  \n",
       "10464                        None  "
      ]
     },
     "execution_count": 4,
     "metadata": {},
     "output_type": "execute_result"
    }
   ],
   "source": [
    "# Step 1: Convert 'contract_start_date' to datetime\n",
    "asignacion_df['contract_start_date'] = pd.to_datetime(asignacion_df['contract_start_date'], errors='coerce')\n",
    "\n",
    "# Step 2: Sort the DataFrame by 'cve_contrato' and 'contract_start_date' in descending order\n",
    "asignacion_df = asignacion_df.sort_values(by=['cve_contrato', 'contract_start_date'], ascending=[True, False])\n",
    "\n",
    "# Step 3: Drop duplicates based on 'cve_contrato', keeping the first occurrence\n",
    "asignacion_df = asignacion_df.drop_duplicates(subset='cve_contrato', keep='first')\n",
    "\n",
    "# Optionally, check the shape of the DataFrame\n",
    "print(\"DataFrame shape after removing duplicates:\", asignacion_df.shape)\n",
    "\n",
    "# Display the first few rows of the cleaned DataFrame to verify\n",
    "asignacion_df.head()"
   ]
  },
  {
   "cell_type": "markdown",
   "id": "5ae0988c-10f0-4bd7-be5a-b20cd09741a2",
   "metadata": {},
   "source": [
    "#### Save the cleaned DataFrame to a CSV file"
   ]
  },
  {
   "cell_type": "code",
   "execution_count": 5,
   "id": "3919d44f-d655-4216-bf75-e1b0d07c8d0e",
   "metadata": {},
   "outputs": [
    {
     "name": "stdout",
     "output_type": "stream",
     "text": [
      "DataFrame has been saved to 'asignacion_data.csv'\n"
     ]
    }
   ],
   "source": [
    "asignacion_df.to_csv('../../data/Processed/csv_files/asignacion_data.csv', index=False, encoding='utf-8')\n",
    "\n",
    "print(\"DataFrame has been saved to 'asignacion_data.csv'\")"
   ]
  },
  {
   "cell_type": "markdown",
   "id": "e9255fec-e40f-4978-9328-984e3a71bbb2",
   "metadata": {},
   "source": [
    "### 3. Documentos Tender\n",
    "### Duplicados por docs_date_published"
   ]
  },
  {
   "cell_type": "markdown",
   "id": "65dd8de8-5b12-40fa-8a98-c0491c18dba3",
   "metadata": {},
   "source": [
    "#### Leyendo el CSV de licitación y convirtiéndolo a parquet para manejar un formato más eficiente"
   ]
  },
  {
   "cell_type": "code",
   "execution_count": 6,
   "id": "afe2dbb9-47ab-4b39-8617-9bdea67929ee",
   "metadata": {},
   "outputs": [
    {
     "name": "stdout",
     "output_type": "stream",
     "text": [
      "Tiempo de ejecución: 76.13503742218018 segundos\n"
     ]
    }
   ],
   "source": [
    "# Read CSV and save to Parquet\n",
    "documentos_df = pd.read_csv('../../data/Processed/csv_files/documentos_tender_sesna_data.csv')\n",
    "documentos_df.to_parquet('../../data/Processed/parquet_files/documentos_tender_sesna_data.parquet')\n",
    "\n",
    "elapsed_time = time.time() - start_time\n",
    "print(f\"Tiempo de ejecución: {elapsed_time} segundos\")"
   ]
  },
  {
   "cell_type": "code",
   "execution_count": 7,
   "id": "8747199c-6c50-4d23-8d2c-373f5e0c926b",
   "metadata": {},
   "outputs": [],
   "source": [
    "documentos_df = pd.read_parquet('../../data/Processed/parquet_files/documentos_tender_sesna_data.parquet')"
   ]
  },
  {
   "cell_type": "code",
   "execution_count": null,
   "id": "aec2d6d2-9868-408f-9746-99dcaaa13ca5",
   "metadata": {},
   "outputs": [],
   "source": [
    "documentos_df.shape"
   ]
  },
  {
   "cell_type": "code",
   "execution_count": null,
   "id": "991ad2f5-5f22-4a4c-b1ab-eebb1863deb9",
   "metadata": {},
   "outputs": [],
   "source": [
    "documentos_df.info()"
   ]
  },
  {
   "cell_type": "markdown",
   "id": "a1ab0101-aea6-4019-89a0-3825e8332d1a",
   "metadata": {},
   "source": [
    "#### Limpiando duplicados al priorizar la primera fecha (fecha más antigua) de docs_date_published_tender"
   ]
  },
  {
   "cell_type": "code",
   "execution_count": 8,
   "id": "4978ba4a-d11a-4574-8d5f-6514b19cd8f3",
   "metadata": {},
   "outputs": [
    {
     "name": "stdout",
     "output_type": "stream",
     "text": [
      "(91899, 9)\n"
     ]
    },
    {
     "data": {
      "text/html": [
       "<div>\n",
       "<style scoped>\n",
       "    .dataframe tbody tr th:only-of-type {\n",
       "        vertical-align: middle;\n",
       "    }\n",
       "\n",
       "    .dataframe tbody tr th {\n",
       "        vertical-align: top;\n",
       "    }\n",
       "\n",
       "    .dataframe thead th {\n",
       "        text-align: right;\n",
       "    }\n",
       "</style>\n",
       "<table border=\"1\" class=\"dataframe\">\n",
       "  <thead>\n",
       "    <tr style=\"text-align: right;\">\n",
       "      <th></th>\n",
       "      <th>cve_expediente</th>\n",
       "      <th>docs_title_tender</th>\n",
       "      <th>docs_type_tender</th>\n",
       "      <th>docs_language_tender</th>\n",
       "      <th>docs_date_published_tender</th>\n",
       "      <th>docs_id_tender</th>\n",
       "      <th>docs_format_tender</th>\n",
       "      <th>docs_description_tender</th>\n",
       "      <th>docs_url_tender</th>\n",
       "    </tr>\n",
       "  </thead>\n",
       "  <tbody>\n",
       "    <tr>\n",
       "      <th>3198</th>\n",
       "      <td>1189249</td>\n",
       "      <td>Conv-IO-009000960-E43-2016.doc</td>\n",
       "      <td>tenderNotice</td>\n",
       "      <td>es</td>\n",
       "      <td>2016-10-25 19:52:00+00:00</td>\n",
       "      <td>29197598</td>\n",
       "      <td>text/html</td>\n",
       "      <td>Convocatoria / Invitación</td>\n",
       "      <td>https://compranet.hacienda.gob.mx/esop/guest/g...</td>\n",
       "    </tr>\n",
       "    <tr>\n",
       "      <th>3200</th>\n",
       "      <td>1189263</td>\n",
       "      <td>Conv-IO-009000960-E44-2016.doc</td>\n",
       "      <td>tenderNotice</td>\n",
       "      <td>es</td>\n",
       "      <td>2016-10-25 20:35:00+00:00</td>\n",
       "      <td>29198348</td>\n",
       "      <td>text/html</td>\n",
       "      <td>Convocatoria / Invitación</td>\n",
       "      <td>https://compranet.hacienda.gob.mx/esop/guest/g...</td>\n",
       "    </tr>\n",
       "    <tr>\n",
       "      <th>3266</th>\n",
       "      <td>1246041</td>\n",
       "      <td>2017.docx</td>\n",
       "      <td>tenderNotice</td>\n",
       "      <td>es</td>\n",
       "      <td>2017-01-02 15:35:00+00:00</td>\n",
       "      <td>30046494</td>\n",
       "      <td>text/html</td>\n",
       "      <td>Convocatoria / Invitación</td>\n",
       "      <td>https://compranet.hacienda.gob.mx/esop/guest/g...</td>\n",
       "    </tr>\n",
       "    <tr>\n",
       "      <th>3268</th>\n",
       "      <td>1246227</td>\n",
       "      <td>2017.docx</td>\n",
       "      <td>tenderNotice</td>\n",
       "      <td>es</td>\n",
       "      <td>2017-01-02 18:24:00+00:00</td>\n",
       "      <td>30047451</td>\n",
       "      <td>text/html</td>\n",
       "      <td>Convocatoria / Invitación</td>\n",
       "      <td>https://compranet.hacienda.gob.mx/esop/guest/g...</td>\n",
       "    </tr>\n",
       "    <tr>\n",
       "      <th>3263</th>\n",
       "      <td>1242820</td>\n",
       "      <td>Convocatoria LPN GASES MEDICINALES.docx</td>\n",
       "      <td>tenderNotice</td>\n",
       "      <td>es</td>\n",
       "      <td>2017-01-03 09:07:00+00:00</td>\n",
       "      <td>30049859</td>\n",
       "      <td>text/html</td>\n",
       "      <td>Convocatoria / Invitación</td>\n",
       "      <td>https://compranet.hacienda.gob.mx/esop/guest/g...</td>\n",
       "    </tr>\n",
       "  </tbody>\n",
       "</table>\n",
       "</div>"
      ],
      "text/plain": [
       "      cve_expediente                        docs_title_tender  \\\n",
       "3198         1189249           Conv-IO-009000960-E43-2016.doc   \n",
       "3200         1189263           Conv-IO-009000960-E44-2016.doc   \n",
       "3266         1246041                                2017.docx   \n",
       "3268         1246227                                2017.docx   \n",
       "3263         1242820  Convocatoria LPN GASES MEDICINALES.docx   \n",
       "\n",
       "     docs_type_tender docs_language_tender docs_date_published_tender  \\\n",
       "3198     tenderNotice                   es  2016-10-25 19:52:00+00:00   \n",
       "3200     tenderNotice                   es  2016-10-25 20:35:00+00:00   \n",
       "3266     tenderNotice                   es  2017-01-02 15:35:00+00:00   \n",
       "3268     tenderNotice                   es  2017-01-02 18:24:00+00:00   \n",
       "3263     tenderNotice                   es  2017-01-03 09:07:00+00:00   \n",
       "\n",
       "      docs_id_tender docs_format_tender    docs_description_tender  \\\n",
       "3198        29197598          text/html  Convocatoria / Invitación   \n",
       "3200        29198348          text/html  Convocatoria / Invitación   \n",
       "3266        30046494          text/html  Convocatoria / Invitación   \n",
       "3268        30047451          text/html  Convocatoria / Invitación   \n",
       "3263        30049859          text/html  Convocatoria / Invitación   \n",
       "\n",
       "                                        docs_url_tender  \n",
       "3198  https://compranet.hacienda.gob.mx/esop/guest/g...  \n",
       "3200  https://compranet.hacienda.gob.mx/esop/guest/g...  \n",
       "3266  https://compranet.hacienda.gob.mx/esop/guest/g...  \n",
       "3268  https://compranet.hacienda.gob.mx/esop/guest/g...  \n",
       "3263  https://compranet.hacienda.gob.mx/esop/guest/g...  "
      ]
     },
     "execution_count": 8,
     "metadata": {},
     "output_type": "execute_result"
    }
   ],
   "source": [
    "# Asegurarte de que la columna de fecha esté en el formato datetime\n",
    "documentos_df['docs_date_published_tender'] = pd.to_datetime(documentos_df['docs_date_published_tender'])\n",
    "\n",
    "# Ordenar el DataFrame por la fecha de publicación en orden ascendente\n",
    "documentos_df = documentos_df.sort_values(by='docs_date_published_tender', ascending=True)\n",
    "\n",
    "# Eliminar duplicados y mantener el primer registro de cada grupo basado en 'cve_expediente'\n",
    "documentos_df = documentos_df.drop_duplicates(subset='cve_expediente', keep='first')\n",
    "\n",
    "# Verificar el resultado\n",
    "print(documentos_df.shape)\n",
    "documentos_df.head()"
   ]
  },
  {
   "cell_type": "markdown",
   "id": "8e35cb5c-11af-4571-b2f3-6ea8209a2711",
   "metadata": {},
   "source": [
    "#### Limpiando duplicados al priorizar la primera fecha (fecha más antigua) de docs_date_published_tender"
   ]
  },
  {
   "cell_type": "code",
   "execution_count": 9,
   "id": "c56d8903-5a64-490f-9244-3c3d281aec52",
   "metadata": {},
   "outputs": [
    {
     "name": "stdout",
     "output_type": "stream",
     "text": [
      "DataFrame has been saved to 'documentos_tender_sesna_data.csv'\n"
     ]
    }
   ],
   "source": [
    "documentos_df.to_csv('../../data/Processed/csv_files/documentos_tender_sesna_data.csv', index=False, encoding='utf-8')\n",
    "\n",
    "print(\"DataFrame has been saved to 'documentos_tender_sesna_data.csv'\")"
   ]
  },
  {
   "cell_type": "code",
   "execution_count": 10,
   "id": "58c45a2c-7609-405f-825e-83155099c945",
   "metadata": {},
   "outputs": [
    {
     "name": "stdout",
     "output_type": "stream",
     "text": [
      "Converted ../../data/Processed/csv_files/asignacion_data.csv to ../../data/Processed/parquet_files/asignacion_data.parquet\n",
      "Converted ../../data/Processed/csv_files/comprador_sesna_data.csv to ../../data/Processed/parquet_files/comprador_sesna_data.parquet\n",
      "Converted ../../data/Processed/csv_files/documentos_tender_sesna_data.csv to ../../data/Processed/parquet_files/documentos_tender_sesna_data.parquet\n",
      "Converted ../../data/Processed/csv_files/items_adq_sesna_data.csv to ../../data/Processed/parquet_files/items_adq_sesna_data.parquet\n",
      "Converted ../../data/Processed/csv_files/licitacion_data.csv to ../../data/Processed/parquet_files/licitacion_data.parquet\n",
      "Converted ../../data/Processed/csv_files/participantes_proveedores.csv to ../../data/Processed/parquet_files/participantes_proveedores.parquet\n",
      "Converted ../../data/Processed/csv_files/tender_items_sesna_data.csv to ../../data/Processed/parquet_files/tender_items_sesna_data.parquet\n"
     ]
    }
   ],
   "source": [
    "import os\n",
    "def convert_csv_to_parquet(input_folder, output_folder):\n",
    "    # Ensure the output folder exists\n",
    "    if not os.path.exists(output_folder):\n",
    "        os.makedirs(output_folder)\n",
    "\n",
    "    # List all files in the input folder\n",
    "    for filename in os.listdir(input_folder):\n",
    "        if filename.endswith('.csv'):\n",
    "            # Construct full file path\n",
    "            csv_file = os.path.join(input_folder, filename)\n",
    "            \n",
    "            # Read the CSV file\n",
    "            df = pd.read_csv(csv_file)\n",
    "            \n",
    "            # Construct the output file path\n",
    "            parquet_file = os.path.join(output_folder, filename.replace('.csv', '.parquet'))\n",
    "            \n",
    "            # Save the dataframe as a parquet file\n",
    "            df.to_parquet(parquet_file)\n",
    "            \n",
    "            print(f\"Converted {csv_file} to {parquet_file}\")\n",
    "\n",
    "# Specify the input and output folders\n",
    "input_folder = '../../data/Processed/csv_files/'\n",
    "output_folder = '../../data/Processed/parquet_files/'\n",
    "\n",
    "# Convert all CSV files in the input folder to Parquet format\n",
    "convert_csv_to_parquet(input_folder, output_folder)\n"
   ]
  }
 ],
 "metadata": {
  "kernelspec": {
   "display_name": "Python 3 (ipykernel)",
   "language": "python",
   "name": "python3"
  },
  "language_info": {
   "codemirror_mode": {
    "name": "ipython",
    "version": 3
   },
   "file_extension": ".py",
   "mimetype": "text/x-python",
   "name": "python",
   "nbconvert_exporter": "python",
   "pygments_lexer": "ipython3",
   "version": "3.11.7"
  }
 },
 "nbformat": 4,
 "nbformat_minor": 5
}
