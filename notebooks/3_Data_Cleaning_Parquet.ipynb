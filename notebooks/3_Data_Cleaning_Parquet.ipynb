{
 "cells": [
  {
   "cell_type": "markdown",
   "id": "75cc8e61-8813-4127-9b6b-530c87cb672c",
   "metadata": {},
   "source": [
    "## Licitación\n",
    "### 1. Duplicados: Expedientes con más de un status"
   ]
  },
  {
   "cell_type": "code",
   "execution_count": 6,
   "id": "e144652e-89b1-457f-bd9b-816de0fe95fa",
   "metadata": {},
   "outputs": [],
   "source": [
    "import pandas as pd\n",
    "import time"
   ]
  },
  {
   "cell_type": "markdown",
   "id": "8af78baf-accf-4265-83c1-d7b3d8efe6d8",
   "metadata": {},
   "source": [
    "#### Leyendo el CSV de licitación y convirtiéndolo a parquet para manejar un formato más eficiente"
   ]
  },
  {
   "cell_type": "code",
   "execution_count": 12,
   "id": "9203e65b-ad96-4870-98dd-e329d5ba9606",
   "metadata": {},
   "outputs": [
    {
     "name": "stdout",
     "output_type": "stream",
     "text": [
      "Tiempo de ejecución: 35.86907386779785 segundos\n"
     ]
    }
   ],
   "source": [
    "start_time = time.time()\n",
    "\n",
    "# Read CSV and save to Parquet\n",
    "licitacion_df = pd.read_csv('../data/Processed/licitacion_sesna_data.csv')\n",
    "licitacion_df.to_parquet('../data/Processed/parquet_files/licitacion_data.parquet')\n",
    "\n",
    "elapsed_time = time.time() - start_time\n",
    "print(f\"Tiempo de ejecución: {elapsed_time} segundos\")"
   ]
  },
  {
   "cell_type": "markdown",
   "id": "05a78b61-4a15-4463-bc1c-04a9d0de3b49",
   "metadata": {},
   "source": [
    "#### Leyendo el archivo parquet de licitación y mostrando los primeros rows"
   ]
  },
  {
   "cell_type": "code",
   "execution_count": 13,
   "id": "8a8124fb-8b79-467d-95a5-0ece402dac0a",
   "metadata": {},
   "outputs": [
    {
     "name": "stdout",
     "output_type": "stream",
     "text": [
      "Tiempo de ejecución: 7.7934160232543945 segundos\n"
     ]
    },
    {
     "data": {
      "text/html": [
       "<div>\n",
       "<style scoped>\n",
       "    .dataframe tbody tr th:only-of-type {\n",
       "        vertical-align: middle;\n",
       "    }\n",
       "\n",
       "    .dataframe tbody tr th {\n",
       "        vertical-align: top;\n",
       "    }\n",
       "\n",
       "    .dataframe thead th {\n",
       "        text-align: right;\n",
       "    }\n",
       "</style>\n",
       "<table border=\"1\" class=\"dataframe\">\n",
       "  <thead>\n",
       "    <tr style=\"text-align: right;\">\n",
       "      <th></th>\n",
       "      <th>cve_expediente</th>\n",
       "      <th>procurementMethod</th>\n",
       "      <th>procurementMethod_rationale</th>\n",
       "      <th>status</th>\n",
       "      <th>title</th>\n",
       "      <th>description</th>\n",
       "      <th>has_enquiries</th>\n",
       "      <th>number_tenderers</th>\n",
       "      <th>tender_start_date</th>\n",
       "      <th>tender_end_date</th>\n",
       "      <th>...</th>\n",
       "      <th>enquiry_end_date</th>\n",
       "      <th>procuring_entity_id</th>\n",
       "      <th>procuring_entity_name</th>\n",
       "      <th>value_currency_tender</th>\n",
       "      <th>value_amount_tender</th>\n",
       "      <th>award_criteria</th>\n",
       "      <th>framework_agreement</th>\n",
       "      <th>framework_agreement_platform</th>\n",
       "      <th>framework_agreement_title</th>\n",
       "      <th>submission_method</th>\n",
       "    </tr>\n",
       "  </thead>\n",
       "  <tbody>\n",
       "    <tr>\n",
       "      <th>0</th>\n",
       "      <td>1892834</td>\n",
       "      <td>direct</td>\n",
       "      <td>Art. 41 fr. V</td>\n",
       "      <td>complete</td>\n",
       "      <td>SERVICIOS MEDICOS SUBROGADOS DE ESPECIALIZACIO...</td>\n",
       "      <td>SERVICIOS MEDICOS SUBROGADOS DE ESPECIALIZACIO...</td>\n",
       "      <td>False</td>\n",
       "      <td>0</td>\n",
       "      <td>2021-09-28T16:39:00Z</td>\n",
       "      <td>None</td>\n",
       "      <td>...</td>\n",
       "      <td>None</td>\n",
       "      <td>ISS6001015A3-051GYN085</td>\n",
       "      <td>ISSSTE-Hospital Regional Gral. Ignacio Zaragoz...</td>\n",
       "      <td>None</td>\n",
       "      <td>NaN</td>\n",
       "      <td>None</td>\n",
       "      <td>None</td>\n",
       "      <td>None</td>\n",
       "      <td>None</td>\n",
       "      <td>electronicSubmission</td>\n",
       "    </tr>\n",
       "    <tr>\n",
       "      <th>1</th>\n",
       "      <td>2010079</td>\n",
       "      <td>direct</td>\n",
       "      <td>Art. 41 fr. XIV</td>\n",
       "      <td>complete</td>\n",
       "      <td>TALLER CULTURAL DE YOGA PARA JUBILADOS Y PENSI...</td>\n",
       "      <td>TALLER CULTURAL DE YOGA PARA JUBILADOS Y PENSI...</td>\n",
       "      <td>False</td>\n",
       "      <td>0</td>\n",
       "      <td>2021-09-09T12:08:00Z</td>\n",
       "      <td>None</td>\n",
       "      <td>...</td>\n",
       "      <td>None</td>\n",
       "      <td>ISS6001015A3-051GYN035</td>\n",
       "      <td>ISSSTE-Delegación Tabasco, Subdelegación de Ad...</td>\n",
       "      <td>None</td>\n",
       "      <td>NaN</td>\n",
       "      <td>None</td>\n",
       "      <td>None</td>\n",
       "      <td>None</td>\n",
       "      <td>None</td>\n",
       "      <td>inPerson</td>\n",
       "    </tr>\n",
       "    <tr>\n",
       "      <th>2</th>\n",
       "      <td>2039835</td>\n",
       "      <td>direct</td>\n",
       "      <td>Art. 41 fr. III</td>\n",
       "      <td>complete</td>\n",
       "      <td>SD_TGM_12122019 SUMINISTRO DE 301 MONEDEROS EL...</td>\n",
       "      <td>SD_TGM_12122019 SUMINISTRO DE 301 MONEDEROS EL...</td>\n",
       "      <td>False</td>\n",
       "      <td>0</td>\n",
       "      <td>2021-09-24T11:17:00Z</td>\n",
       "      <td>None</td>\n",
       "      <td>...</td>\n",
       "      <td>None</td>\n",
       "      <td>TGM990109718-004E2D001</td>\n",
       "      <td>TGM-Gerencia de Abastecimientos #004E2D001</td>\n",
       "      <td>None</td>\n",
       "      <td>NaN</td>\n",
       "      <td>None</td>\n",
       "      <td>None</td>\n",
       "      <td>None</td>\n",
       "      <td>None</td>\n",
       "      <td>electronicSubmission</td>\n",
       "    </tr>\n",
       "    <tr>\n",
       "      <th>3</th>\n",
       "      <td>2058673</td>\n",
       "      <td>direct</td>\n",
       "      <td>Art. 41 fr. II</td>\n",
       "      <td>complete</td>\n",
       "      <td>SERVICIO DE LIMPIEZA</td>\n",
       "      <td>Contrato celebrado para brindar el servicio de...</td>\n",
       "      <td>False</td>\n",
       "      <td>0</td>\n",
       "      <td>2021-09-03T10:46:00Z</td>\n",
       "      <td>None</td>\n",
       "      <td>...</td>\n",
       "      <td>None</td>\n",
       "      <td>RAN920810MU6-015B00973</td>\n",
       "      <td>RAN-Delegación Chihuahua #015B00973</td>\n",
       "      <td>None</td>\n",
       "      <td>NaN</td>\n",
       "      <td>None</td>\n",
       "      <td>None</td>\n",
       "      <td>None</td>\n",
       "      <td>None</td>\n",
       "      <td>inPerson</td>\n",
       "    </tr>\n",
       "    <tr>\n",
       "      <th>4</th>\n",
       "      <td>2071481</td>\n",
       "      <td>direct</td>\n",
       "      <td>Art. 41 fr. XIV</td>\n",
       "      <td>complete</td>\n",
       "      <td>SERVICIOS PROFESIONALES</td>\n",
       "      <td>SERVICIOS PROFESIONALES</td>\n",
       "      <td>False</td>\n",
       "      <td>0</td>\n",
       "      <td>2021-09-02T13:49:00Z</td>\n",
       "      <td>None</td>\n",
       "      <td>...</td>\n",
       "      <td>None</td>\n",
       "      <td>INI080202BQ8-011MDE001</td>\n",
       "      <td>INIFED-Gerencia de Recuros Materiales y Servic...</td>\n",
       "      <td>None</td>\n",
       "      <td>NaN</td>\n",
       "      <td>None</td>\n",
       "      <td>None</td>\n",
       "      <td>None</td>\n",
       "      <td>None</td>\n",
       "      <td>inPerson</td>\n",
       "    </tr>\n",
       "  </tbody>\n",
       "</table>\n",
       "<p>5 rows × 23 columns</p>\n",
       "</div>"
      ],
      "text/plain": [
       "   cve_expediente procurementMethod procurementMethod_rationale    status  \\\n",
       "0         1892834            direct               Art. 41 fr. V  complete   \n",
       "1         2010079            direct             Art. 41 fr. XIV  complete   \n",
       "2         2039835            direct             Art. 41 fr. III  complete   \n",
       "3         2058673            direct              Art. 41 fr. II  complete   \n",
       "4         2071481            direct             Art. 41 fr. XIV  complete   \n",
       "\n",
       "                                               title  \\\n",
       "0  SERVICIOS MEDICOS SUBROGADOS DE ESPECIALIZACIO...   \n",
       "1  TALLER CULTURAL DE YOGA PARA JUBILADOS Y PENSI...   \n",
       "2  SD_TGM_12122019 SUMINISTRO DE 301 MONEDEROS EL...   \n",
       "3                               SERVICIO DE LIMPIEZA   \n",
       "4                            SERVICIOS PROFESIONALES   \n",
       "\n",
       "                                         description  has_enquiries  \\\n",
       "0  SERVICIOS MEDICOS SUBROGADOS DE ESPECIALIZACIO...          False   \n",
       "1  TALLER CULTURAL DE YOGA PARA JUBILADOS Y PENSI...          False   \n",
       "2  SD_TGM_12122019 SUMINISTRO DE 301 MONEDEROS EL...          False   \n",
       "3  Contrato celebrado para brindar el servicio de...          False   \n",
       "4                            SERVICIOS PROFESIONALES          False   \n",
       "\n",
       "   number_tenderers     tender_start_date tender_end_date  ...  \\\n",
       "0                 0  2021-09-28T16:39:00Z            None  ...   \n",
       "1                 0  2021-09-09T12:08:00Z            None  ...   \n",
       "2                 0  2021-09-24T11:17:00Z            None  ...   \n",
       "3                 0  2021-09-03T10:46:00Z            None  ...   \n",
       "4                 0  2021-09-02T13:49:00Z            None  ...   \n",
       "\n",
       "  enquiry_end_date     procuring_entity_id  \\\n",
       "0             None  ISS6001015A3-051GYN085   \n",
       "1             None  ISS6001015A3-051GYN035   \n",
       "2             None  TGM990109718-004E2D001   \n",
       "3             None  RAN920810MU6-015B00973   \n",
       "4             None  INI080202BQ8-011MDE001   \n",
       "\n",
       "                               procuring_entity_name value_currency_tender  \\\n",
       "0  ISSSTE-Hospital Regional Gral. Ignacio Zaragoz...                  None   \n",
       "1  ISSSTE-Delegación Tabasco, Subdelegación de Ad...                  None   \n",
       "2         TGM-Gerencia de Abastecimientos #004E2D001                  None   \n",
       "3                RAN-Delegación Chihuahua #015B00973                  None   \n",
       "4  INIFED-Gerencia de Recuros Materiales y Servic...                  None   \n",
       "\n",
       "  value_amount_tender award_criteria framework_agreement  \\\n",
       "0                 NaN           None                None   \n",
       "1                 NaN           None                None   \n",
       "2                 NaN           None                None   \n",
       "3                 NaN           None                None   \n",
       "4                 NaN           None                None   \n",
       "\n",
       "   framework_agreement_platform framework_agreement_title  \\\n",
       "0                          None                      None   \n",
       "1                          None                      None   \n",
       "2                          None                      None   \n",
       "3                          None                      None   \n",
       "4                          None                      None   \n",
       "\n",
       "      submission_method  \n",
       "0  electronicSubmission  \n",
       "1              inPerson  \n",
       "2  electronicSubmission  \n",
       "3              inPerson  \n",
       "4              inPerson  \n",
       "\n",
       "[5 rows x 23 columns]"
      ]
     },
     "execution_count": 13,
     "metadata": {},
     "output_type": "execute_result"
    }
   ],
   "source": [
    "start_time = time.time()\n",
    "\n",
    "# Read from Parquet (faster and uses less memory)\n",
    "licitacion_df = pd.read_parquet('../data/Processed/parquet_files/licitacion_data.parquet')\n",
    "\n",
    "elapsed_time = time.time() - start_time\n",
    "print(f\"Tiempo de ejecución: {elapsed_time} segundos\")\n",
    "licitacion_df.head()"
   ]
  },
  {
   "cell_type": "code",
   "execution_count": 14,
   "id": "014aa338-32d0-4fca-80eb-70aa07ca5d39",
   "metadata": {},
   "outputs": [
    {
     "data": {
      "text/plain": [
       "(2742267, 23)"
      ]
     },
     "execution_count": 14,
     "metadata": {},
     "output_type": "execute_result"
    }
   ],
   "source": [
    "licitacion_df.shape"
   ]
  },
  {
   "cell_type": "code",
   "execution_count": 15,
   "id": "13e43e47-6faf-47b4-85a4-42696540e034",
   "metadata": {},
   "outputs": [
    {
     "name": "stdout",
     "output_type": "stream",
     "text": [
      "<class 'pandas.core.frame.DataFrame'>\n",
      "RangeIndex: 2742267 entries, 0 to 2742266\n",
      "Data columns (total 23 columns):\n",
      " #   Column                        Dtype  \n",
      "---  ------                        -----  \n",
      " 0   cve_expediente                int64  \n",
      " 1   procurementMethod             object \n",
      " 2   procurementMethod_rationale   object \n",
      " 3   status                        object \n",
      " 4   title                         object \n",
      " 5   description                   object \n",
      " 6   has_enquiries                 bool   \n",
      " 7   number_tenderers              int64  \n",
      " 8   tender_start_date             object \n",
      " 9   tender_end_date               object \n",
      " 10  award_start_date              object \n",
      " 11  award_end_date                object \n",
      " 12  enquiry_start_date            object \n",
      " 13  enquiry_end_date              object \n",
      " 14  procuring_entity_id           object \n",
      " 15  procuring_entity_name         object \n",
      " 16  value_currency_tender         object \n",
      " 17  value_amount_tender           float64\n",
      " 18  award_criteria                object \n",
      " 19  framework_agreement           object \n",
      " 20  framework_agreement_platform  object \n",
      " 21  framework_agreement_title     object \n",
      " 22  submission_method             object \n",
      "dtypes: bool(1), float64(1), int64(2), object(19)\n",
      "memory usage: 462.9+ MB\n"
     ]
    }
   ],
   "source": [
    "licitacion_df.info()"
   ]
  },
  {
   "cell_type": "markdown",
   "id": "a2593bb4-3a07-409f-ae1c-15f448bd1511",
   "metadata": {},
   "source": [
    "#### Identificando expedientes con más de un status: 15,692 "
   ]
  },
  {
   "cell_type": "code",
   "execution_count": 21,
   "id": "652a2fa0-83be-4ca6-a9b1-759c60728018",
   "metadata": {},
   "outputs": [
    {
     "name": "stdout",
     "output_type": "stream",
     "text": [
      "Distinct Statuses Across DataFrame:\n",
      "['complete' 'unsuccessful' 'active']\n"
     ]
    }
   ],
   "source": [
    "# Display all distinct status values from the original DataFrame\n",
    "distinct_statuses = licitacion_df['status'].unique()\n",
    "print(\"Distinct Statuses Across DataFrame:\")\n",
    "print(distinct_statuses)"
   ]
  },
  {
   "cell_type": "code",
   "execution_count": 19,
   "id": "0962275a-e88e-4119-97ff-fd715c6d9a77",
   "metadata": {},
   "outputs": [
    {
     "name": "stdout",
     "output_type": "stream",
     "text": [
      "CVE Expediente with Multiple Statuses:\n"
     ]
    },
    {
     "data": {
      "text/html": [
       "<div>\n",
       "<style scoped>\n",
       "    .dataframe tbody tr th:only-of-type {\n",
       "        vertical-align: middle;\n",
       "    }\n",
       "\n",
       "    .dataframe tbody tr th {\n",
       "        vertical-align: top;\n",
       "    }\n",
       "\n",
       "    .dataframe thead th {\n",
       "        text-align: right;\n",
       "    }\n",
       "</style>\n",
       "<table border=\"1\" class=\"dataframe\">\n",
       "  <thead>\n",
       "    <tr style=\"text-align: right;\">\n",
       "      <th></th>\n",
       "      <th>cve_expediente</th>\n",
       "      <th>status</th>\n",
       "    </tr>\n",
       "  </thead>\n",
       "  <tbody>\n",
       "    <tr>\n",
       "      <th>381494</th>\n",
       "      <td>2241434</td>\n",
       "      <td>[complete, active]</td>\n",
       "    </tr>\n",
       "    <tr>\n",
       "      <th>391256</th>\n",
       "      <td>2256332</td>\n",
       "      <td>[complete, active]</td>\n",
       "    </tr>\n",
       "    <tr>\n",
       "      <th>400330</th>\n",
       "      <td>2271214</td>\n",
       "      <td>[complete, active]</td>\n",
       "    </tr>\n",
       "    <tr>\n",
       "      <th>403818</th>\n",
       "      <td>2277768</td>\n",
       "      <td>[unsuccessful, active]</td>\n",
       "    </tr>\n",
       "    <tr>\n",
       "      <th>403887</th>\n",
       "      <td>2277905</td>\n",
       "      <td>[complete, active]</td>\n",
       "    </tr>\n",
       "    <tr>\n",
       "      <th>...</th>\n",
       "      <td>...</td>\n",
       "      <td>...</td>\n",
       "    </tr>\n",
       "    <tr>\n",
       "      <th>565740</th>\n",
       "      <td>2560063</td>\n",
       "      <td>[complete, active]</td>\n",
       "    </tr>\n",
       "    <tr>\n",
       "      <th>566174</th>\n",
       "      <td>2560969</td>\n",
       "      <td>[complete, active]</td>\n",
       "    </tr>\n",
       "    <tr>\n",
       "      <th>566205</th>\n",
       "      <td>2561016</td>\n",
       "      <td>[unsuccessful, active]</td>\n",
       "    </tr>\n",
       "    <tr>\n",
       "      <th>566311</th>\n",
       "      <td>2561237</td>\n",
       "      <td>[unsuccessful, active]</td>\n",
       "    </tr>\n",
       "    <tr>\n",
       "      <th>566319</th>\n",
       "      <td>2561271</td>\n",
       "      <td>[unsuccessful, active]</td>\n",
       "    </tr>\n",
       "  </tbody>\n",
       "</table>\n",
       "<p>15692 rows × 2 columns</p>\n",
       "</div>"
      ],
      "text/plain": [
       "        cve_expediente                  status\n",
       "381494         2241434      [complete, active]\n",
       "391256         2256332      [complete, active]\n",
       "400330         2271214      [complete, active]\n",
       "403818         2277768  [unsuccessful, active]\n",
       "403887         2277905      [complete, active]\n",
       "...                ...                     ...\n",
       "565740         2560063      [complete, active]\n",
       "566174         2560969      [complete, active]\n",
       "566205         2561016  [unsuccessful, active]\n",
       "566311         2561237  [unsuccessful, active]\n",
       "566319         2561271  [unsuccessful, active]\n",
       "\n",
       "[15692 rows x 2 columns]"
      ]
     },
     "execution_count": 19,
     "metadata": {},
     "output_type": "execute_result"
    }
   ],
   "source": [
    "# Aggregate the unique statuses for each cve_expediente\n",
    "agg_df = licitacion_df.groupby('cve_expediente')['status'].agg(lambda x: list(set(x))).reset_index()\n",
    "\n",
    "# Filter for cve_expediente with more than one distinct status\n",
    "multiple_statuses_df = agg_df[agg_df['status'].apply(len) > 1]\n",
    "\n",
    "# Display the cve_expediente with multiple statuses\n",
    "print(\"CVE Expediente with Multiple Statuses:\")\n",
    "multiple_statuses_df"
   ]
  },
  {
   "cell_type": "markdown",
   "id": "c9212286-136c-4eda-9dcb-2db105b89950",
   "metadata": {},
   "source": [
    "#### Limpiando duplicados por status"
   ]
  },
  {
   "cell_type": "code",
   "execution_count": 22,
   "id": "5278933a-cd4e-485d-b398-609ab68f2124",
   "metadata": {},
   "outputs": [
    {
     "name": "stdout",
     "output_type": "stream",
     "text": [
      "(567053, 23)\n",
      "Tiempo de ejecución: 1.9247839450836182 segundos\n"
     ]
    }
   ],
   "source": [
    "start_time = time.time()\n",
    "\n",
    "# Define a custom sort key based on status priority\n",
    "status_priority = {'complete': 1, 'unsuccessful': 2, 'active': 3}\n",
    "licitacion_df['status_priority'] = licitacion_df['status'].map(status_priority)\n",
    "\n",
    "# Sort the DataFrame by 'cve_expediente' and 'status_priority'\n",
    "sorted_df = licitacion_df.sort_values(by=['cve_expediente', 'status_priority'])\n",
    "\n",
    "# Drop duplicates, keeping the first entry (highest priority status) for each 'cve_expediente'\n",
    "cleaned_df = sorted_df.drop_duplicates(subset='cve_expediente', keep='first')\n",
    "\n",
    "# drop the 'status_priority' column as it's no longer needed\n",
    "cleaned_df = cleaned_df.drop(columns=['status_priority'])\n",
    "\n",
    "# Display the cleaned DataFrame\n",
    "print(cleaned_df.shape)\n",
    "\n",
    "elapsed_time = time.time() - start_time\n",
    "print(f\"Tiempo de ejecución: {elapsed_time} segundos\")"
   ]
  },
  {
   "cell_type": "markdown",
   "id": "42efe74f-4985-4ca6-8779-e814d6d8418b",
   "metadata": {},
   "source": [
    "#### Confirmando 0 expedientes con más de un status"
   ]
  },
  {
   "cell_type": "code",
   "execution_count": 24,
   "id": "f60e93fb-3dd0-43a8-a531-9c75c74a7e21",
   "metadata": {},
   "outputs": [
    {
     "name": "stdout",
     "output_type": "stream",
     "text": [
      "CVE Expediente with Multiple Statuses:\n"
     ]
    },
    {
     "data": {
      "text/html": [
       "<div>\n",
       "<style scoped>\n",
       "    .dataframe tbody tr th:only-of-type {\n",
       "        vertical-align: middle;\n",
       "    }\n",
       "\n",
       "    .dataframe tbody tr th {\n",
       "        vertical-align: top;\n",
       "    }\n",
       "\n",
       "    .dataframe thead th {\n",
       "        text-align: right;\n",
       "    }\n",
       "</style>\n",
       "<table border=\"1\" class=\"dataframe\">\n",
       "  <thead>\n",
       "    <tr style=\"text-align: right;\">\n",
       "      <th></th>\n",
       "      <th>cve_expediente</th>\n",
       "      <th>status</th>\n",
       "    </tr>\n",
       "  </thead>\n",
       "  <tbody>\n",
       "  </tbody>\n",
       "</table>\n",
       "</div>"
      ],
      "text/plain": [
       "Empty DataFrame\n",
       "Columns: [cve_expediente, status]\n",
       "Index: []"
      ]
     },
     "execution_count": 24,
     "metadata": {},
     "output_type": "execute_result"
    }
   ],
   "source": [
    "# Aggregate the unique statuses for each cve_expediente\n",
    "agg_df = cleaned_df.groupby('cve_expediente')['status'].agg(lambda x: list(set(x))).reset_index()\n",
    "\n",
    "# Filter for cve_expediente with more than one distinct status\n",
    "multiple_statuses_df = agg_df[agg_df['status'].apply(len) > 1]\n",
    "\n",
    "# Display the cve_expediente with multiple statuses\n",
    "print(\"CVE Expediente with Multiple Statuses:\")\n",
    "multiple_statuses_df"
   ]
  }
 ],
 "metadata": {
  "kernelspec": {
   "display_name": "Python 3 (ipykernel)",
   "language": "python",
   "name": "python3"
  },
  "language_info": {
   "codemirror_mode": {
    "name": "ipython",
    "version": 3
   },
   "file_extension": ".py",
   "mimetype": "text/x-python",
   "name": "python",
   "nbconvert_exporter": "python",
   "pygments_lexer": "ipython3",
   "version": "3.11.7"
  }
 },
 "nbformat": 4,
 "nbformat_minor": 5
}
